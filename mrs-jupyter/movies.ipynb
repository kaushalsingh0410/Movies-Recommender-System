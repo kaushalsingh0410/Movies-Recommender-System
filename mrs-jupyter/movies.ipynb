{
 "cells": [
  {
   "cell_type": "code",
   "execution_count": 2,
   "id": "98e82c09-b202-4cd9-ae49-cedb1c745dc8",
   "metadata": {},
   "outputs": [
    {
     "ename": "ModuleNotFoundError",
     "evalue": "No module named 'pandas'",
     "output_type": "error",
     "traceback": [
      "\u001b[31m---------------------------------------------------------------------------\u001b[39m",
      "\u001b[31mModuleNotFoundError\u001b[39m                       Traceback (most recent call last)",
      "\u001b[36mCell\u001b[39m\u001b[36m \u001b[39m\u001b[32mIn[2]\u001b[39m\u001b[32m, line 2\u001b[39m\n\u001b[32m      1\u001b[39m \u001b[38;5;28;01mimport\u001b[39;00m\u001b[38;5;250m \u001b[39m\u001b[34;01mrequests\u001b[39;00m\n\u001b[32m----> \u001b[39m\u001b[32m2\u001b[39m \u001b[38;5;28;01mimport\u001b[39;00m\u001b[38;5;250m \u001b[39m\u001b[34;01mpandas\u001b[39;00m\u001b[38;5;250m \u001b[39m\u001b[38;5;28;01mas\u001b[39;00m\u001b[38;5;250m \u001b[39m\u001b[34;01mpd\u001b[39;00m\n\u001b[32m      3\u001b[39m \u001b[38;5;28;01mimport\u001b[39;00m\u001b[38;5;250m \u001b[39m\u001b[34;01mnumpy\u001b[39;00m\u001b[38;5;250m \u001b[39m\u001b[38;5;28;01mas\u001b[39;00m\u001b[38;5;250m \u001b[39m\u001b[34;01mnp\u001b[39;00m\n\u001b[32m      4\u001b[39m \u001b[38;5;28;01mimport\u001b[39;00m\u001b[38;5;250m \u001b[39m\u001b[34;01mjoblib\u001b[39;00m\n",
      "\u001b[31mModuleNotFoundError\u001b[39m: No module named 'pandas'"
     ]
    }
   ],
   "source": [
    "import requests\n",
    "import pandas as pd\n",
    "import numpy as np\n",
    "import joblib\n",
    "import time\n",
    "import ast\n",
    "import json\n",
    "\n",
    "import requests\n",
    "from requests.adapters import HTTPAdapter\n",
    "from urllib3.util.retry import Retry"
   ]
  },
  {
   "cell_type": "code",
   "execution_count": 3,
   "id": "4a892ffd-1303-4cb5-843f-2f62769a39ef",
   "metadata": {},
   "outputs": [],
   "source": [
    "df = pd.DataFrame(columns =['id','adult','budget','revenue','homepage','original_title','overview','popularity','release_date','runtime','tagline','vote_average','vote_count','belongs_to_collection','genres','origin_country','production_companies','spoken_languages','cast','director','screenplay','keywords'] )"
   ]
  },
  {
   "cell_type": "code",
   "execution_count": 4,
   "id": "8b2ede25-e320-48ae-8ee5-df6192bb554f",
   "metadata": {},
   "outputs": [],
   "source": [
    "movies = pd.read_csv('tmdb_5000_movies.csv')"
   ]
  },
  {
   "cell_type": "code",
   "execution_count": 5,
   "id": "107bd0c9-cf3b-4c3a-825a-45d1887eb1cb",
   "metadata": {},
   "outputs": [
    {
     "data": {
      "text/plain": [
       "budget                                                          300000000\n",
       "genres                  [{\"id\": 12, \"name\": \"Adventure\"}, {\"id\": 14, \"...\n",
       "homepage                     http://disney.go.com/disneypictures/pirates/\n",
       "id                                                                    285\n",
       "keywords                [{\"id\": 270, \"name\": \"ocean\"}, {\"id\": 726, \"na...\n",
       "original_language                                                      en\n",
       "original_title                   Pirates of the Caribbean: At World's End\n",
       "overview                Captain Barbossa, long believed to be dead, ha...\n",
       "popularity                                                     139.082615\n",
       "production_companies    [{\"name\": \"Walt Disney Pictures\", \"id\": 2}, {\"...\n",
       "production_countries    [{\"iso_3166_1\": \"US\", \"name\": \"United States o...\n",
       "release_date                                                   2007-05-19\n",
       "revenue                                                         961000000\n",
       "runtime                                                             169.0\n",
       "spoken_languages                 [{\"iso_639_1\": \"en\", \"name\": \"English\"}]\n",
       "status                                                           Released\n",
       "tagline                    At the end of the world, the adventure begins.\n",
       "title                            Pirates of the Caribbean: At World's End\n",
       "vote_average                                                          6.9\n",
       "vote_count                                                           4500\n",
       "Name: 1, dtype: object"
      ]
     },
     "execution_count": 5,
     "metadata": {},
     "output_type": "execute_result"
    }
   ],
   "source": [
    "movies.iloc[1]"
   ]
  },
  {
   "cell_type": "code",
   "execution_count": 1,
   "id": "36bbc2b9-189d-42ee-b4d8-e99599fd4d2d",
   "metadata": {},
   "outputs": [
    {
     "ename": "NameError",
     "evalue": "name 'requests' is not defined",
     "output_type": "error",
     "traceback": [
      "\u001b[31m---------------------------------------------------------------------------\u001b[39m",
      "\u001b[31mNameError\u001b[39m                                 Traceback (most recent call last)",
      "\u001b[36mCell\u001b[39m\u001b[36m \u001b[39m\u001b[32mIn[1]\u001b[39m\u001b[32m, line 2\u001b[39m\n\u001b[32m      1\u001b[39m url = \u001b[33mf\u001b[39m\u001b[33m'\u001b[39m\u001b[33mhttps://api.themoviedb.org/3/movie/1726?api_key=mykey&append_to_response=credits,images,videos,keywords\u001b[39m\u001b[33m'\u001b[39m\n\u001b[32m----> \u001b[39m\u001b[32m2\u001b[39m data = \u001b[43mrequests\u001b[49m.get(url).json()\n\u001b[32m      3\u001b[39m \u001b[38;5;66;03m# data\u001b[39;00m\n",
      "\u001b[31mNameError\u001b[39m: name 'requests' is not defined"
     ]
    }
   ],
   "source": [
    "url = f'https://api.themoviedb.org/3/movie/1726?api_key=mykey&append_to_response=credits,images,videos,keywords'\n",
    "data = requests.get(url).json()\n",
    "# data"
   ]
  },
  {
   "cell_type": "code",
   "execution_count": null,
   "id": "ce6ca927-aa53-4e5d-ad6f-9cd4630c24fe",
   "metadata": {},
   "outputs": [],
   "source": [
    "count = 1\n",
    "save = [10,500,1000,1500,2000,2500,3000,3500,4000,4500,5000,5100]\n",
    "\n",
    "session = requests.Session()\n",
    "retry = Retry(connect=3, backoff_factor=0.5)\n",
    "adapter = HTTPAdapter(max_retries=retry)\n",
    "# session.mount('http://', adapter)\n",
    "session.mount('https://', adapter)\n",
    "df = pd.DataFrame(columns =['id','adult','budget','backdrop_path','poster_path','revenue','homepage','title','overview','popularity','release_date','runtime','tagline','vote_average','vote_count',\n",
    "                            'belongs_to_collection','genres','origin_country','production_companies','spoken_languages','cast','director','screenplay','keywords','crew','backdrops','posters','videos'] )\n",
    "\n",
    "for id in movies.id:\n",
    "    try:\n",
    "        url = f'https://api.themoviedb.org/3/movie/{id}?api_key=key&append_to_response=credits,images,videos,keywords'\n",
    "        data = session.get(url).json()\n",
    "        # data = requests.get(url).json()\n",
    "        single_values = ['adult','budget','backdrop_path','poster_path','revenue','homepage','title','overview','popularity','release_date','runtime','tagline','vote_average','vote_count']\n",
    "        multiple_values = ['belongs_to_collection','genres','origin_country','production_companies','spoken_languages','keywords','backdrops','posters','videos']\n",
    "        row = pd.Series(pd.Series({'id':data['id']})) \n",
    "        \n",
    "        for key in single_values:\n",
    "            row.loc[key] = data[key]\n",
    "        \n",
    "        for key in multiple_values:\n",
    "            if key == 'belongs_to_collection' and isinstance(data[key],dict):\n",
    "                row.loc[key] = data[key]\n",
    "            elif key == 'genres':\n",
    "                row.loc[key] = tuple(map(lambda x:x['name'],data[key]))\n",
    "            elif key == 'origin_country':\n",
    "                row.loc[key] = tuple(data[key])\n",
    "            elif key == 'production_companies':\n",
    "                row.loc[key] = tuple(map(lambda x:(x['name'],x['logo_path'],x['origin_country']),data[key]))\n",
    "            elif key == 'production_countries':\n",
    "                row.loc[key] = tuple(map(lambda x:x['name'],data[key]))\n",
    "            elif key == 'spoken_languages' :\n",
    "                row.loc[key] = tuple(map(lambda x:x['english_name'],data[key]))\n",
    "            elif key == 'keywords' :\n",
    "                row.loc[key] = tuple(map(lambda x:x['name'],data[key][key]))\n",
    "            elif key == 'backdrops' :\n",
    "                row.loc[key] = tuple(map(lambda x:(x['height'],x['width'],x['file_path']),data['images'][key]))\n",
    "            elif key == 'posters' :\n",
    "                row.loc[key] = tuple(map(lambda x:(x['height'],x['width'],x['file_path'],x['aspect_ratio']),data['images'][key]))\n",
    "            elif key == 'videos' :\n",
    "                row.loc[key] = tuple(map(lambda x:(x['name'],x['key'],x['site'],x['size'],x['id']),data[key]['results']))\n",
    "        \n",
    "        row.loc['cast'] = tuple(map(lambda x: (x['name'],x['profile_path'],x['id'],x['character'],x['credit_id']),data['credits']['cast']))\n",
    "        row.loc['crew'] = tuple(map(lambda x: (x['name'],x['profile_path'],x['id'],x['department'],x['credit_id'],x['job']),data['credits']['crew']))\n",
    "        \n",
    "        row.loc['director'] = [(key['name'],key['profile_path'],key['id'],key['department'],key['credit_id'],key['job']) for key in data['credits']['crew'] if key['job'] == 'Director']\n",
    "        row.loc['screenplay'] = [(key['name'],key['profile_path'],key['id'],key['department'],key['credit_id'],key['job']) for key in data['credits']['crew'] if key['job'] == 'Screenplay']\n",
    "        df = pd.concat([df,pd.DataFrame([row])])\n",
    "        if count in save:\n",
    "            df.to_csv('row_data.csv',index = False)\n",
    "            print('save',count)\n",
    "        print(count,end = ' ')\n",
    "        count+=1\n",
    "        # time.sleep(0.26)\n",
    "    except Exception as e:\n",
    "        print(count,)\n",
    "        count+=1\n",
    "        print(e)"
   ]
  },
  {
   "cell_type": "code",
   "execution_count": 9,
   "id": "ad56805a-ff3e-466b-bcaa-7a44265b3e9b",
   "metadata": {},
   "outputs": [
    {
     "data": {
      "text/html": [
       "<div>\n",
       "<style scoped>\n",
       "    .dataframe tbody tr th:only-of-type {\n",
       "        vertical-align: middle;\n",
       "    }\n",
       "\n",
       "    .dataframe tbody tr th {\n",
       "        vertical-align: top;\n",
       "    }\n",
       "\n",
       "    .dataframe thead th {\n",
       "        text-align: right;\n",
       "    }\n",
       "</style>\n",
       "<table border=\"1\" class=\"dataframe\">\n",
       "  <thead>\n",
       "    <tr style=\"text-align: right;\">\n",
       "      <th></th>\n",
       "      <th>id</th>\n",
       "      <th>adult</th>\n",
       "      <th>budget</th>\n",
       "      <th>backdrop_path</th>\n",
       "      <th>poster_path</th>\n",
       "      <th>revenue</th>\n",
       "      <th>homepage</th>\n",
       "      <th>title</th>\n",
       "      <th>overview</th>\n",
       "      <th>popularity</th>\n",
       "      <th>...</th>\n",
       "      <th>production_companies</th>\n",
       "      <th>spoken_languages</th>\n",
       "      <th>cast</th>\n",
       "      <th>director</th>\n",
       "      <th>screenplay</th>\n",
       "      <th>keywords</th>\n",
       "      <th>crew</th>\n",
       "      <th>backdrops</th>\n",
       "      <th>posters</th>\n",
       "      <th>videos</th>\n",
       "    </tr>\n",
       "  </thead>\n",
       "  <tbody>\n",
       "    <tr>\n",
       "      <th>0</th>\n",
       "      <td>19995</td>\n",
       "      <td>False</td>\n",
       "      <td>237000000</td>\n",
       "      <td>/vL5LR6WdxWPjLPFRLe133jXWsh5.jpg</td>\n",
       "      <td>/kyeqWdyUXW608qlYkRqosgbbJyK.jpg</td>\n",
       "      <td>2923706026</td>\n",
       "      <td>https://www.avatar.com/movies/avatar</td>\n",
       "      <td>Avatar</td>\n",
       "      <td>In the 22nd century, a paraplegic Marine is di...</td>\n",
       "      <td>19.4085</td>\n",
       "      <td>...</td>\n",
       "      <td>((Dune Entertainment, None, US), (Lightstorm E...</td>\n",
       "      <td>(English, Spanish)</td>\n",
       "      <td>((Sam Worthington, /mflBcox36s9ZPbsZPVOuhf6axa...</td>\n",
       "      <td>[(James Cameron, /9NAZnTjBQ9WcXAQEzZpKy4vdQto....</td>\n",
       "      <td>[]</td>\n",
       "      <td>(paraplegic, attachment to nature, culture cla...</td>\n",
       "      <td>((John Refoua, /qvWv4ohokCGX6PxVqJhVugZNRqI.jp...</td>\n",
       "      <td>((2160, 3840, /vL5LR6WdxWPjLPFRLe133jXWsh5.jpg...</td>\n",
       "      <td>((2127, 1418, /uaRusyPlXRD4w3XPbfDDbO4jXST.jpg...</td>\n",
       "      <td>((Rick Carter | 82nd &amp; 85th Oscars Best Produc...</td>\n",
       "    </tr>\n",
       "    <tr>\n",
       "      <th>0</th>\n",
       "      <td>285</td>\n",
       "      <td>False</td>\n",
       "      <td>300000000</td>\n",
       "      <td>/1jHxkVXMI5s3vRiyiZooUy1shB5.jpg</td>\n",
       "      <td>/jGWpG4YhpQwVmjyHEGkxEkeRf0S.jpg</td>\n",
       "      <td>961691209</td>\n",
       "      <td>https://movies.disney.com/pirates-of-the-carib...</td>\n",
       "      <td>Pirates of the Caribbean: At World's End</td>\n",
       "      <td>Will Turner and Elizabeth Swann join forces wi...</td>\n",
       "      <td>16.9507</td>\n",
       "      <td>...</td>\n",
       "      <td>((Jerry Bruckheimer Films, /c9dVHPOL3cqCr2593A...</td>\n",
       "      <td>(English,)</td>\n",
       "      <td>((Johnny Depp, /wcI594cwM4ArPwvRd2IU0Z0yLuh.jp...</td>\n",
       "      <td>[(Gore Verbinski, /rSQRdmLNAwdKxrtvBSSlBmWeSsj...</td>\n",
       "      <td>[(Terry Rossio, /fFB0vhLH1dU6pSMWojEY5Stbv21.j...</td>\n",
       "      <td>(exotic island, strong woman, love of one's li...</td>\n",
       "      <td>((Stephen E. Rivkin, /804bmnoxrmlBYXGLh2ZOG7L8...</td>\n",
       "      <td>((2160, 3840, /kIPAtz27QPbH6Fqu0EJinlJCkHC.jpg...</td>\n",
       "      <td>((1800, 1200, /fMgcmRYbT4O7hCmsRjKPzPBZXTi.jpg...</td>\n",
       "      <td>((Pirates of the Caribbean: At World's End (20...</td>\n",
       "    </tr>\n",
       "    <tr>\n",
       "      <th>0</th>\n",
       "      <td>206647</td>\n",
       "      <td>False</td>\n",
       "      <td>245000000</td>\n",
       "      <td>/8lBViysvNJBPkl6zG1LVAaW3qhj.jpg</td>\n",
       "      <td>/zj8ongFhtWNsVlfjOGo8pSr7PQg.jpg</td>\n",
       "      <td>880707597</td>\n",
       "      <td>https://mgm.com/movies/spectre</td>\n",
       "      <td>Spectre</td>\n",
       "      <td>A cryptic message from Bond’s past sends him o...</td>\n",
       "      <td>5.6313</td>\n",
       "      <td>...</td>\n",
       "      <td>((Metro-Goldwyn-Mayer, /usUnaYV6hQnlVAXP6r4Hwr...</td>\n",
       "      <td>(French, English, Spanish, Italian, German)</td>\n",
       "      <td>((Daniel Craig, /iFerDZUmC5Fu26i4qI8xnUVEHc7.j...</td>\n",
       "      <td>[(Sam Mendes, /5z89X9rB76JDblqMQ52fviwXxAN.jpg...</td>\n",
       "      <td>[(John Logan, /nsece2qBIAOFvavyXc89HlIqrLK.jpg...</td>\n",
       "      <td>(based on novel or book, spy, secret agent, se...</td>\n",
       "      <td>((Daniel Kleinman, None, 228181, Art, 62334bd4...</td>\n",
       "      <td>((1080, 1920, /8lBViysvNJBPkl6zG1LVAaW3qhj.jpg...</td>\n",
       "      <td>((2100, 1400, /8KcTySYevFZNinrFadCZoKpF9jN.jpg...</td>\n",
       "      <td>((SPECTRE | “I kill people… small world eh?”, ...</td>\n",
       "    </tr>\n",
       "    <tr>\n",
       "      <th>0</th>\n",
       "      <td>49026</td>\n",
       "      <td>False</td>\n",
       "      <td>250000000</td>\n",
       "      <td>/y2DB71C4nyIdMrANijz8mzvQtk6.jpg</td>\n",
       "      <td>/hr0L2aueqlP2BYUblTTjmtn0hw4.jpg</td>\n",
       "      <td>1081041287</td>\n",
       "      <td>http://www.thedarkknightrises.com/</td>\n",
       "      <td>The Dark Knight Rises</td>\n",
       "      <td>Following the death of District Attorney Harve...</td>\n",
       "      <td>16.7544</td>\n",
       "      <td>...</td>\n",
       "      <td>((Syncopy, /3tvBqYsBhxWeHlu62SIJ1el93O7.png, G...</td>\n",
       "      <td>(English,)</td>\n",
       "      <td>((Christian Bale, /7Pxez9J8fuPd2Mn9kex13YALrCQ...</td>\n",
       "      <td>[(Christopher Nolan, /xuAIuYSmsUzKlUMBFGVZaWsY...</td>\n",
       "      <td>[(Jonathan Nolan, /qd8d381vz2skpreY1BfVuSfLJts...</td>\n",
       "      <td>(airplane, fight, burglar, hostage, secret ide...</td>\n",
       "      <td>((Hans Zimmer, /tpQnDeHY15szIXvpnhlprufz4d.jpg...</td>\n",
       "      <td>((2160, 3840, /y2DB71C4nyIdMrANijz8mzvQtk6.jpg...</td>\n",
       "      <td>((1500, 1000, /hr0L2aueqlP2BYUblTTjmtn0hw4.jpg...</td>\n",
       "      <td>((DC Super Scenes: Batman and Gordon, yiyUl1VM...</td>\n",
       "    </tr>\n",
       "    <tr>\n",
       "      <th>0</th>\n",
       "      <td>49529</td>\n",
       "      <td>False</td>\n",
       "      <td>250000000</td>\n",
       "      <td>/ubNevniKd5NYo60DqYIQ29T0uyB.jpg</td>\n",
       "      <td>/lCxz1Yus07QCQQCb6I0Dr3Lmqpx.jpg</td>\n",
       "      <td>284100000</td>\n",
       "      <td>http://movies.disney.com/john-carter</td>\n",
       "      <td>John Carter</td>\n",
       "      <td>John Carter is a war-weary, former military ca...</td>\n",
       "      <td>5.8806</td>\n",
       "      <td>...</td>\n",
       "      <td>((Walt Disney Pictures, /wdrCwmRnLFJhEoH8GSfym...</td>\n",
       "      <td>(English,)</td>\n",
       "      <td>((Taylor Kitsch, /pTFkwvE2URbbftiaofexfolhkH9....</td>\n",
       "      <td>[(Andrew Stanton, /fo6ePCWEVB0L1sccrvB99Iaoqcg...</td>\n",
       "      <td>[(Mark Andrews, /1z6t4TK2ZehNZ5gwaN7893aNhJf.j...</td>\n",
       "      <td>(princess, medallion, planet mars, based on no...</td>\n",
       "      <td>((Dan Mindel, /4nZVUgBlQLSNrS3j0zVblT4FF8V.jpg...</td>\n",
       "      <td>((1080, 1920, /ubNevniKd5NYo60DqYIQ29T0uyB.jpg...</td>\n",
       "      <td>((3000, 2000, /lCxz1Yus07QCQQCb6I0Dr3Lmqpx.jpg...</td>\n",
       "      <td>((UK Premiere - BFI Southbank, London - 2012, ...</td>\n",
       "    </tr>\n",
       "    <tr>\n",
       "      <th>...</th>\n",
       "      <td>...</td>\n",
       "      <td>...</td>\n",
       "      <td>...</td>\n",
       "      <td>...</td>\n",
       "      <td>...</td>\n",
       "      <td>...</td>\n",
       "      <td>...</td>\n",
       "      <td>...</td>\n",
       "      <td>...</td>\n",
       "      <td>...</td>\n",
       "      <td>...</td>\n",
       "      <td>...</td>\n",
       "      <td>...</td>\n",
       "      <td>...</td>\n",
       "      <td>...</td>\n",
       "      <td>...</td>\n",
       "      <td>...</td>\n",
       "      <td>...</td>\n",
       "      <td>...</td>\n",
       "      <td>...</td>\n",
       "      <td>...</td>\n",
       "    </tr>\n",
       "    <tr>\n",
       "      <th>0</th>\n",
       "      <td>9367</td>\n",
       "      <td>False</td>\n",
       "      <td>7225</td>\n",
       "      <td>/zERY2aaCrLExpR6NQ1ceIs0WG8S.jpg</td>\n",
       "      <td>/zRh7K4SV1xQ419m8gzGITak51vc.jpg</td>\n",
       "      <td>2040920</td>\n",
       "      <td></td>\n",
       "      <td>El Mariachi</td>\n",
       "      <td>El Mariachi just wants to play his guitar and ...</td>\n",
       "      <td>2.2881</td>\n",
       "      <td>...</td>\n",
       "      <td>((Los Hooligans Productions, None, US),)</td>\n",
       "      <td>(Spanish, English)</td>\n",
       "      <td>((Carlos Gallardo, /1ZaDFJtyjAQUMDah86qJtEEjW7...</td>\n",
       "      <td>[(Robert Rodriguez, /bPqRdLWWwpOT8sBdj9PWOzNgw...</td>\n",
       "      <td>[]</td>\n",
       "      <td>(mistaken identity, usa–mexico border, mariach...</td>\n",
       "      <td>((Eric Guthrie, None, 57473, Sound, 52fe44eec3...</td>\n",
       "      <td>((1080, 1920, /zERY2aaCrLExpR6NQ1ceIs0WG8S.jpg...</td>\n",
       "      <td>((1500, 1000, /uobiEfuGjfSzpczTiQpjf9mVFiU.jpg...</td>\n",
       "      <td>((Official Trailer, QtNJsvpHye0, YouTube, 1080...</td>\n",
       "    </tr>\n",
       "    <tr>\n",
       "      <th>0</th>\n",
       "      <td>72766</td>\n",
       "      <td>False</td>\n",
       "      <td>9000</td>\n",
       "      <td>/ek5Yac53PCliZVpIVRLRRSseRjr.jpg</td>\n",
       "      <td>/t09NlDBh0z1HEhPu6Xs5c4hRk64.jpg</td>\n",
       "      <td>5000</td>\n",
       "      <td></td>\n",
       "      <td>Newlyweds</td>\n",
       "      <td>A newlywed couple's honeymoon is upended by th...</td>\n",
       "      <td>0.3894</td>\n",
       "      <td>...</td>\n",
       "      <td>((Marlboro Road Gang Productions, /aixGsrDcrXm...</td>\n",
       "      <td>(English,)</td>\n",
       "      <td>((Edward Burns, /pTLdPUSxDUcdmvy91LGCF3pk0AM.j...</td>\n",
       "      <td>[(Edward Burns, /pTLdPUSxDUcdmvy91LGCF3pk0AM.j...</td>\n",
       "      <td>[]</td>\n",
       "      <td>()</td>\n",
       "      <td>((Edward Burns, /pTLdPUSxDUcdmvy91LGCF3pk0AM.j...</td>\n",
       "      <td>((1080, 1920, /ek5Yac53PCliZVpIVRLRRSseRjr.jpg),)</td>\n",
       "      <td>((1500, 1000, /t09NlDBh0z1HEhPu6Xs5c4hRk64.jpg...</td>\n",
       "      <td>((Newlyweds - Trailer, xl1Q4TnAWiw, YouTube, 1...</td>\n",
       "    </tr>\n",
       "    <tr>\n",
       "      <th>0</th>\n",
       "      <td>231617</td>\n",
       "      <td>False</td>\n",
       "      <td>0</td>\n",
       "      <td>/4VjcEIuE6gk5al11S5d5ATS7BDK.jpg</td>\n",
       "      <td>/6BVCgmhLeSTF8nPBuE9ncHHcCNv.jpg</td>\n",
       "      <td>0</td>\n",
       "      <td>https://www.hallmarkdrama.com/signed-sealed-de...</td>\n",
       "      <td>Signed, Sealed, Delivered</td>\n",
       "      <td>A mix up on her first day of work sends Shane ...</td>\n",
       "      <td>0.4820</td>\n",
       "      <td>...</td>\n",
       "      <td>((Muse Entertainment, /hQVRii7CRnfG0rowSEc6ibt...</td>\n",
       "      <td>(English,)</td>\n",
       "      <td>((Eric Mabius, /ywIbk1l5qqN8TZcHAq0KSFRgegp.jp...</td>\n",
       "      <td>[(Scott Smith, None, 1219158, Directing, 52fe4...</td>\n",
       "      <td>[]</td>\n",
       "      <td>(love at first sight, date, narration, investi...</td>\n",
       "      <td>((Scott Smith, None, 1219158, Directing, 52fe4...</td>\n",
       "      <td>((2160, 3840, /4VjcEIuE6gk5al11S5d5ATS7BDK.jpg...</td>\n",
       "      <td>((1440, 960, /6BVCgmhLeSTF8nPBuE9ncHHcCNv.jpg,...</td>\n",
       "      <td>((Hallmark Channel - Signed, Sealed, Delivered...</td>\n",
       "    </tr>\n",
       "    <tr>\n",
       "      <th>0</th>\n",
       "      <td>126186</td>\n",
       "      <td>False</td>\n",
       "      <td>0</td>\n",
       "      <td>/y8CGiAYo2E6Ld82FvNvwRwr8937.jpg</td>\n",
       "      <td>/2a1q1RTxspKxGWbGKVpXFzl6MbV.jpg</td>\n",
       "      <td>0</td>\n",
       "      <td></td>\n",
       "      <td>Shanghai Calling</td>\n",
       "      <td>When ambitious New York attorney Sam is sent t...</td>\n",
       "      <td>0.4586</td>\n",
       "      <td>...</td>\n",
       "      <td>()</td>\n",
       "      <td>(Mandarin, English)</td>\n",
       "      <td>((Daniel Henney, /elAolohpUG5nS99EZxHZjd44DsS....</td>\n",
       "      <td>[(Daniel Hsia, None, 208138, Directing, 52fe4a...</td>\n",
       "      <td>[]</td>\n",
       "      <td>()</td>\n",
       "      <td>((Daniel Hsia, None, 208138, Directing, 52fe4a...</td>\n",
       "      <td>((888, 1577, /y8CGiAYo2E6Ld82FvNvwRwr8937.jpg)...</td>\n",
       "      <td>((2562, 1708, /m01l1KdR9oQiB3pw7uPFQtEEGcX.jpg...</td>\n",
       "      <td>((SHANGHAI CALLING - Official Trailer, xKjBRWh...</td>\n",
       "    </tr>\n",
       "    <tr>\n",
       "      <th>0</th>\n",
       "      <td>25975</td>\n",
       "      <td>False</td>\n",
       "      <td>0</td>\n",
       "      <td>/76G299sPITuIgAwCWM71KTop3Qc.jpg</td>\n",
       "      <td>/19ChghJMN72BG9mQeDK0D209whF.jpg</td>\n",
       "      <td>0</td>\n",
       "      <td></td>\n",
       "      <td>My Date with Drew</td>\n",
       "      <td>Ever since the second grade when he first saw ...</td>\n",
       "      <td>0.4649</td>\n",
       "      <td>...</td>\n",
       "      <td>((rusty bear entertainment, None, ), (lucky cr...</td>\n",
       "      <td>(English,)</td>\n",
       "      <td>((Drew Barrymore, /kv9sX8bzpBPWNsWwRpxdcW35FWo...</td>\n",
       "      <td>[(Jon Gunn, /e29isH4oYqWvhovn6GbkJnfRJq8.jpg, ...</td>\n",
       "      <td>[]</td>\n",
       "      <td>(obsession, dream girl, crush)</td>\n",
       "      <td>((Jon Gunn, /e29isH4oYqWvhovn6GbkJnfRJq8.jpg, ...</td>\n",
       "      <td>((720, 1280, /76G299sPITuIgAwCWM71KTop3Qc.jpg)...</td>\n",
       "      <td>((1500, 1000, /19ChghJMN72BG9mQeDK0D209whF.jpg...</td>\n",
       "      <td>()</td>\n",
       "    </tr>\n",
       "  </tbody>\n",
       "</table>\n",
       "<p>4796 rows × 28 columns</p>\n",
       "</div>"
      ],
      "text/plain": [
       "        id  adult     budget                     backdrop_path  \\\n",
       "0    19995  False  237000000  /vL5LR6WdxWPjLPFRLe133jXWsh5.jpg   \n",
       "0      285  False  300000000  /1jHxkVXMI5s3vRiyiZooUy1shB5.jpg   \n",
       "0   206647  False  245000000  /8lBViysvNJBPkl6zG1LVAaW3qhj.jpg   \n",
       "0    49026  False  250000000  /y2DB71C4nyIdMrANijz8mzvQtk6.jpg   \n",
       "0    49529  False  250000000  /ubNevniKd5NYo60DqYIQ29T0uyB.jpg   \n",
       "..     ...    ...        ...                               ...   \n",
       "0     9367  False       7225  /zERY2aaCrLExpR6NQ1ceIs0WG8S.jpg   \n",
       "0    72766  False       9000  /ek5Yac53PCliZVpIVRLRRSseRjr.jpg   \n",
       "0   231617  False          0  /4VjcEIuE6gk5al11S5d5ATS7BDK.jpg   \n",
       "0   126186  False          0  /y8CGiAYo2E6Ld82FvNvwRwr8937.jpg   \n",
       "0    25975  False          0  /76G299sPITuIgAwCWM71KTop3Qc.jpg   \n",
       "\n",
       "                         poster_path     revenue  \\\n",
       "0   /kyeqWdyUXW608qlYkRqosgbbJyK.jpg  2923706026   \n",
       "0   /jGWpG4YhpQwVmjyHEGkxEkeRf0S.jpg   961691209   \n",
       "0   /zj8ongFhtWNsVlfjOGo8pSr7PQg.jpg   880707597   \n",
       "0   /hr0L2aueqlP2BYUblTTjmtn0hw4.jpg  1081041287   \n",
       "0   /lCxz1Yus07QCQQCb6I0Dr3Lmqpx.jpg   284100000   \n",
       "..                               ...         ...   \n",
       "0   /zRh7K4SV1xQ419m8gzGITak51vc.jpg     2040920   \n",
       "0   /t09NlDBh0z1HEhPu6Xs5c4hRk64.jpg        5000   \n",
       "0   /6BVCgmhLeSTF8nPBuE9ncHHcCNv.jpg           0   \n",
       "0   /2a1q1RTxspKxGWbGKVpXFzl6MbV.jpg           0   \n",
       "0   /19ChghJMN72BG9mQeDK0D209whF.jpg           0   \n",
       "\n",
       "                                             homepage  \\\n",
       "0                https://www.avatar.com/movies/avatar   \n",
       "0   https://movies.disney.com/pirates-of-the-carib...   \n",
       "0                      https://mgm.com/movies/spectre   \n",
       "0                  http://www.thedarkknightrises.com/   \n",
       "0                http://movies.disney.com/john-carter   \n",
       "..                                                ...   \n",
       "0                                                       \n",
       "0                                                       \n",
       "0   https://www.hallmarkdrama.com/signed-sealed-de...   \n",
       "0                                                       \n",
       "0                                                       \n",
       "\n",
       "                                       title  \\\n",
       "0                                     Avatar   \n",
       "0   Pirates of the Caribbean: At World's End   \n",
       "0                                    Spectre   \n",
       "0                      The Dark Knight Rises   \n",
       "0                                John Carter   \n",
       "..                                       ...   \n",
       "0                                El Mariachi   \n",
       "0                                  Newlyweds   \n",
       "0                  Signed, Sealed, Delivered   \n",
       "0                           Shanghai Calling   \n",
       "0                          My Date with Drew   \n",
       "\n",
       "                                             overview  popularity  ...  \\\n",
       "0   In the 22nd century, a paraplegic Marine is di...     19.4085  ...   \n",
       "0   Will Turner and Elizabeth Swann join forces wi...     16.9507  ...   \n",
       "0   A cryptic message from Bond’s past sends him o...      5.6313  ...   \n",
       "0   Following the death of District Attorney Harve...     16.7544  ...   \n",
       "0   John Carter is a war-weary, former military ca...      5.8806  ...   \n",
       "..                                                ...         ...  ...   \n",
       "0   El Mariachi just wants to play his guitar and ...      2.2881  ...   \n",
       "0   A newlywed couple's honeymoon is upended by th...      0.3894  ...   \n",
       "0   A mix up on her first day of work sends Shane ...      0.4820  ...   \n",
       "0   When ambitious New York attorney Sam is sent t...      0.4586  ...   \n",
       "0   Ever since the second grade when he first saw ...      0.4649  ...   \n",
       "\n",
       "                                 production_companies  \\\n",
       "0   ((Dune Entertainment, None, US), (Lightstorm E...   \n",
       "0   ((Jerry Bruckheimer Films, /c9dVHPOL3cqCr2593A...   \n",
       "0   ((Metro-Goldwyn-Mayer, /usUnaYV6hQnlVAXP6r4Hwr...   \n",
       "0   ((Syncopy, /3tvBqYsBhxWeHlu62SIJ1el93O7.png, G...   \n",
       "0   ((Walt Disney Pictures, /wdrCwmRnLFJhEoH8GSfym...   \n",
       "..                                                ...   \n",
       "0            ((Los Hooligans Productions, None, US),)   \n",
       "0   ((Marlboro Road Gang Productions, /aixGsrDcrXm...   \n",
       "0   ((Muse Entertainment, /hQVRii7CRnfG0rowSEc6ibt...   \n",
       "0                                                  ()   \n",
       "0   ((rusty bear entertainment, None, ), (lucky cr...   \n",
       "\n",
       "                               spoken_languages  \\\n",
       "0                            (English, Spanish)   \n",
       "0                                    (English,)   \n",
       "0   (French, English, Spanish, Italian, German)   \n",
       "0                                    (English,)   \n",
       "0                                    (English,)   \n",
       "..                                          ...   \n",
       "0                            (Spanish, English)   \n",
       "0                                    (English,)   \n",
       "0                                    (English,)   \n",
       "0                           (Mandarin, English)   \n",
       "0                                    (English,)   \n",
       "\n",
       "                                                 cast  \\\n",
       "0   ((Sam Worthington, /mflBcox36s9ZPbsZPVOuhf6axa...   \n",
       "0   ((Johnny Depp, /wcI594cwM4ArPwvRd2IU0Z0yLuh.jp...   \n",
       "0   ((Daniel Craig, /iFerDZUmC5Fu26i4qI8xnUVEHc7.j...   \n",
       "0   ((Christian Bale, /7Pxez9J8fuPd2Mn9kex13YALrCQ...   \n",
       "0   ((Taylor Kitsch, /pTFkwvE2URbbftiaofexfolhkH9....   \n",
       "..                                                ...   \n",
       "0   ((Carlos Gallardo, /1ZaDFJtyjAQUMDah86qJtEEjW7...   \n",
       "0   ((Edward Burns, /pTLdPUSxDUcdmvy91LGCF3pk0AM.j...   \n",
       "0   ((Eric Mabius, /ywIbk1l5qqN8TZcHAq0KSFRgegp.jp...   \n",
       "0   ((Daniel Henney, /elAolohpUG5nS99EZxHZjd44DsS....   \n",
       "0   ((Drew Barrymore, /kv9sX8bzpBPWNsWwRpxdcW35FWo...   \n",
       "\n",
       "                                             director  \\\n",
       "0   [(James Cameron, /9NAZnTjBQ9WcXAQEzZpKy4vdQto....   \n",
       "0   [(Gore Verbinski, /rSQRdmLNAwdKxrtvBSSlBmWeSsj...   \n",
       "0   [(Sam Mendes, /5z89X9rB76JDblqMQ52fviwXxAN.jpg...   \n",
       "0   [(Christopher Nolan, /xuAIuYSmsUzKlUMBFGVZaWsY...   \n",
       "0   [(Andrew Stanton, /fo6ePCWEVB0L1sccrvB99Iaoqcg...   \n",
       "..                                                ...   \n",
       "0   [(Robert Rodriguez, /bPqRdLWWwpOT8sBdj9PWOzNgw...   \n",
       "0   [(Edward Burns, /pTLdPUSxDUcdmvy91LGCF3pk0AM.j...   \n",
       "0   [(Scott Smith, None, 1219158, Directing, 52fe4...   \n",
       "0   [(Daniel Hsia, None, 208138, Directing, 52fe4a...   \n",
       "0   [(Jon Gunn, /e29isH4oYqWvhovn6GbkJnfRJq8.jpg, ...   \n",
       "\n",
       "                                           screenplay  \\\n",
       "0                                                  []   \n",
       "0   [(Terry Rossio, /fFB0vhLH1dU6pSMWojEY5Stbv21.j...   \n",
       "0   [(John Logan, /nsece2qBIAOFvavyXc89HlIqrLK.jpg...   \n",
       "0   [(Jonathan Nolan, /qd8d381vz2skpreY1BfVuSfLJts...   \n",
       "0   [(Mark Andrews, /1z6t4TK2ZehNZ5gwaN7893aNhJf.j...   \n",
       "..                                                ...   \n",
       "0                                                  []   \n",
       "0                                                  []   \n",
       "0                                                  []   \n",
       "0                                                  []   \n",
       "0                                                  []   \n",
       "\n",
       "                                             keywords  \\\n",
       "0   (paraplegic, attachment to nature, culture cla...   \n",
       "0   (exotic island, strong woman, love of one's li...   \n",
       "0   (based on novel or book, spy, secret agent, se...   \n",
       "0   (airplane, fight, burglar, hostage, secret ide...   \n",
       "0   (princess, medallion, planet mars, based on no...   \n",
       "..                                                ...   \n",
       "0   (mistaken identity, usa–mexico border, mariach...   \n",
       "0                                                  ()   \n",
       "0   (love at first sight, date, narration, investi...   \n",
       "0                                                  ()   \n",
       "0                      (obsession, dream girl, crush)   \n",
       "\n",
       "                                                 crew  \\\n",
       "0   ((John Refoua, /qvWv4ohokCGX6PxVqJhVugZNRqI.jp...   \n",
       "0   ((Stephen E. Rivkin, /804bmnoxrmlBYXGLh2ZOG7L8...   \n",
       "0   ((Daniel Kleinman, None, 228181, Art, 62334bd4...   \n",
       "0   ((Hans Zimmer, /tpQnDeHY15szIXvpnhlprufz4d.jpg...   \n",
       "0   ((Dan Mindel, /4nZVUgBlQLSNrS3j0zVblT4FF8V.jpg...   \n",
       "..                                                ...   \n",
       "0   ((Eric Guthrie, None, 57473, Sound, 52fe44eec3...   \n",
       "0   ((Edward Burns, /pTLdPUSxDUcdmvy91LGCF3pk0AM.j...   \n",
       "0   ((Scott Smith, None, 1219158, Directing, 52fe4...   \n",
       "0   ((Daniel Hsia, None, 208138, Directing, 52fe4a...   \n",
       "0   ((Jon Gunn, /e29isH4oYqWvhovn6GbkJnfRJq8.jpg, ...   \n",
       "\n",
       "                                            backdrops  \\\n",
       "0   ((2160, 3840, /vL5LR6WdxWPjLPFRLe133jXWsh5.jpg...   \n",
       "0   ((2160, 3840, /kIPAtz27QPbH6Fqu0EJinlJCkHC.jpg...   \n",
       "0   ((1080, 1920, /8lBViysvNJBPkl6zG1LVAaW3qhj.jpg...   \n",
       "0   ((2160, 3840, /y2DB71C4nyIdMrANijz8mzvQtk6.jpg...   \n",
       "0   ((1080, 1920, /ubNevniKd5NYo60DqYIQ29T0uyB.jpg...   \n",
       "..                                                ...   \n",
       "0   ((1080, 1920, /zERY2aaCrLExpR6NQ1ceIs0WG8S.jpg...   \n",
       "0   ((1080, 1920, /ek5Yac53PCliZVpIVRLRRSseRjr.jpg),)   \n",
       "0   ((2160, 3840, /4VjcEIuE6gk5al11S5d5ATS7BDK.jpg...   \n",
       "0   ((888, 1577, /y8CGiAYo2E6Ld82FvNvwRwr8937.jpg)...   \n",
       "0   ((720, 1280, /76G299sPITuIgAwCWM71KTop3Qc.jpg)...   \n",
       "\n",
       "                                              posters  \\\n",
       "0   ((2127, 1418, /uaRusyPlXRD4w3XPbfDDbO4jXST.jpg...   \n",
       "0   ((1800, 1200, /fMgcmRYbT4O7hCmsRjKPzPBZXTi.jpg...   \n",
       "0   ((2100, 1400, /8KcTySYevFZNinrFadCZoKpF9jN.jpg...   \n",
       "0   ((1500, 1000, /hr0L2aueqlP2BYUblTTjmtn0hw4.jpg...   \n",
       "0   ((3000, 2000, /lCxz1Yus07QCQQCb6I0Dr3Lmqpx.jpg...   \n",
       "..                                                ...   \n",
       "0   ((1500, 1000, /uobiEfuGjfSzpczTiQpjf9mVFiU.jpg...   \n",
       "0   ((1500, 1000, /t09NlDBh0z1HEhPu6Xs5c4hRk64.jpg...   \n",
       "0   ((1440, 960, /6BVCgmhLeSTF8nPBuE9ncHHcCNv.jpg,...   \n",
       "0   ((2562, 1708, /m01l1KdR9oQiB3pw7uPFQtEEGcX.jpg...   \n",
       "0   ((1500, 1000, /19ChghJMN72BG9mQeDK0D209whF.jpg...   \n",
       "\n",
       "                                               videos  \n",
       "0   ((Rick Carter | 82nd & 85th Oscars Best Produc...  \n",
       "0   ((Pirates of the Caribbean: At World's End (20...  \n",
       "0   ((SPECTRE | “I kill people… small world eh?”, ...  \n",
       "0   ((DC Super Scenes: Batman and Gordon, yiyUl1VM...  \n",
       "0   ((UK Premiere - BFI Southbank, London - 2012, ...  \n",
       "..                                                ...  \n",
       "0   ((Official Trailer, QtNJsvpHye0, YouTube, 1080...  \n",
       "0   ((Newlyweds - Trailer, xl1Q4TnAWiw, YouTube, 1...  \n",
       "0   ((Hallmark Channel - Signed, Sealed, Delivered...  \n",
       "0   ((SHANGHAI CALLING - Official Trailer, xKjBRWh...  \n",
       "0                                                  ()  \n",
       "\n",
       "[4796 rows x 28 columns]"
      ]
     },
     "execution_count": 9,
     "metadata": {},
     "output_type": "execute_result"
    }
   ],
   "source": [
    "df"
   ]
  },
  {
   "cell_type": "code",
   "execution_count": 3,
   "id": "35f164ff-086a-45b2-983d-7e28e2877af2",
   "metadata": {},
   "outputs": [],
   "source": [
    "df = pd.read_csv('row_data_copy.csv')"
   ]
  },
  {
   "cell_type": "code",
   "execution_count": 13,
   "id": "476ff531-6b11-4c6d-b4b7-b17b78df04c9",
   "metadata": {
    "scrolled": true
   },
   "outputs": [
    {
     "data": {
      "text/html": [
       "<div>\n",
       "<style scoped>\n",
       "    .dataframe tbody tr th:only-of-type {\n",
       "        vertical-align: middle;\n",
       "    }\n",
       "\n",
       "    .dataframe tbody tr th {\n",
       "        vertical-align: top;\n",
       "    }\n",
       "\n",
       "    .dataframe thead th {\n",
       "        text-align: right;\n",
       "    }\n",
       "</style>\n",
       "<table border=\"1\" class=\"dataframe\">\n",
       "  <thead>\n",
       "    <tr style=\"text-align: right;\">\n",
       "      <th></th>\n",
       "      <th>id</th>\n",
       "      <th>adult</th>\n",
       "      <th>budget</th>\n",
       "      <th>backdrop_path</th>\n",
       "      <th>poster_path</th>\n",
       "      <th>revenue</th>\n",
       "      <th>homepage</th>\n",
       "      <th>title</th>\n",
       "      <th>overview</th>\n",
       "      <th>popularity</th>\n",
       "      <th>...</th>\n",
       "      <th>production_companies</th>\n",
       "      <th>spoken_languages</th>\n",
       "      <th>cast</th>\n",
       "      <th>director</th>\n",
       "      <th>screenplay</th>\n",
       "      <th>keywords</th>\n",
       "      <th>crew</th>\n",
       "      <th>backdrops</th>\n",
       "      <th>posters</th>\n",
       "      <th>videos</th>\n",
       "    </tr>\n",
       "  </thead>\n",
       "  <tbody>\n",
       "    <tr>\n",
       "      <th>0</th>\n",
       "      <td>19995</td>\n",
       "      <td>False</td>\n",
       "      <td>237000000</td>\n",
       "      <td>/vL5LR6WdxWPjLPFRLe133jXWsh5.jpg</td>\n",
       "      <td>/kyeqWdyUXW608qlYkRqosgbbJyK.jpg</td>\n",
       "      <td>2923706026</td>\n",
       "      <td>https://www.avatar.com/movies/avatar</td>\n",
       "      <td>Avatar</td>\n",
       "      <td>In the 22nd century, a paraplegic Marine is di...</td>\n",
       "      <td>19.4085</td>\n",
       "      <td>...</td>\n",
       "      <td>(('Dune Entertainment', None, 'US'), ('Lightst...</td>\n",
       "      <td>('English', 'Spanish')</td>\n",
       "      <td>(('Sam Worthington', '/mflBcox36s9ZPbsZPVOuhf6...</td>\n",
       "      <td>[('James Cameron', '/9NAZnTjBQ9WcXAQEzZpKy4vdQ...</td>\n",
       "      <td>[]</td>\n",
       "      <td>('paraplegic', 'attachment to nature', 'cultur...</td>\n",
       "      <td>(('John Refoua', '/qvWv4ohokCGX6PxVqJhVugZNRqI...</td>\n",
       "      <td>((2160, 3840, '/vL5LR6WdxWPjLPFRLe133jXWsh5.jp...</td>\n",
       "      <td>((2127, 1418, '/uaRusyPlXRD4w3XPbfDDbO4jXST.jp...</td>\n",
       "      <td>(('Rick Carter | 82nd &amp; 85th Oscars Best Produ...</td>\n",
       "    </tr>\n",
       "    <tr>\n",
       "      <th>1</th>\n",
       "      <td>285</td>\n",
       "      <td>False</td>\n",
       "      <td>300000000</td>\n",
       "      <td>/1jHxkVXMI5s3vRiyiZooUy1shB5.jpg</td>\n",
       "      <td>/jGWpG4YhpQwVmjyHEGkxEkeRf0S.jpg</td>\n",
       "      <td>961691209</td>\n",
       "      <td>https://movies.disney.com/pirates-of-the-carib...</td>\n",
       "      <td>Pirates of the Caribbean: At World's End</td>\n",
       "      <td>Will Turner and Elizabeth Swann join forces wi...</td>\n",
       "      <td>16.9507</td>\n",
       "      <td>...</td>\n",
       "      <td>(('Jerry Bruckheimer Films', '/c9dVHPOL3cqCr25...</td>\n",
       "      <td>('English',)</td>\n",
       "      <td>(('Johnny Depp', '/wcI594cwM4ArPwvRd2IU0Z0yLuh...</td>\n",
       "      <td>[('Gore Verbinski', '/rSQRdmLNAwdKxrtvBSSlBmWe...</td>\n",
       "      <td>[('Terry Rossio', '/fFB0vhLH1dU6pSMWojEY5Stbv2...</td>\n",
       "      <td>('exotic island', 'strong woman', \"love of one...</td>\n",
       "      <td>(('Stephen E. Rivkin', '/804bmnoxrmlBYXGLh2ZOG...</td>\n",
       "      <td>((2160, 3840, '/kIPAtz27QPbH6Fqu0EJinlJCkHC.jp...</td>\n",
       "      <td>((1800, 1200, '/fMgcmRYbT4O7hCmsRjKPzPBZXTi.jp...</td>\n",
       "      <td>((\"Pirates of the Caribbean: At World's End (2...</td>\n",
       "    </tr>\n",
       "    <tr>\n",
       "      <th>2</th>\n",
       "      <td>206647</td>\n",
       "      <td>False</td>\n",
       "      <td>245000000</td>\n",
       "      <td>/8lBViysvNJBPkl6zG1LVAaW3qhj.jpg</td>\n",
       "      <td>/zj8ongFhtWNsVlfjOGo8pSr7PQg.jpg</td>\n",
       "      <td>880707597</td>\n",
       "      <td>https://mgm.com/movies/spectre</td>\n",
       "      <td>Spectre</td>\n",
       "      <td>A cryptic message from Bond’s past sends him o...</td>\n",
       "      <td>5.6313</td>\n",
       "      <td>...</td>\n",
       "      <td>(('Metro-Goldwyn-Mayer', '/usUnaYV6hQnlVAXP6r4...</td>\n",
       "      <td>('French', 'English', 'Spanish', 'Italian', 'G...</td>\n",
       "      <td>(('Daniel Craig', '/iFerDZUmC5Fu26i4qI8xnUVEHc...</td>\n",
       "      <td>[('Sam Mendes', '/5z89X9rB76JDblqMQ52fviwXxAN....</td>\n",
       "      <td>[('John Logan', '/nsece2qBIAOFvavyXc89HlIqrLK....</td>\n",
       "      <td>('based on novel or book', 'spy', 'secret agen...</td>\n",
       "      <td>(('Daniel Kleinman', None, 228181, 'Art', '623...</td>\n",
       "      <td>((1080, 1920, '/8lBViysvNJBPkl6zG1LVAaW3qhj.jp...</td>\n",
       "      <td>((2100, 1400, '/8KcTySYevFZNinrFadCZoKpF9jN.jp...</td>\n",
       "      <td>(('SPECTRE | “I kill people… small world eh?”'...</td>\n",
       "    </tr>\n",
       "    <tr>\n",
       "      <th>3</th>\n",
       "      <td>49026</td>\n",
       "      <td>False</td>\n",
       "      <td>250000000</td>\n",
       "      <td>/y2DB71C4nyIdMrANijz8mzvQtk6.jpg</td>\n",
       "      <td>/hr0L2aueqlP2BYUblTTjmtn0hw4.jpg</td>\n",
       "      <td>1081041287</td>\n",
       "      <td>http://www.thedarkknightrises.com/</td>\n",
       "      <td>The Dark Knight Rises</td>\n",
       "      <td>Following the death of District Attorney Harve...</td>\n",
       "      <td>16.7544</td>\n",
       "      <td>...</td>\n",
       "      <td>(('Syncopy', '/3tvBqYsBhxWeHlu62SIJ1el93O7.png...</td>\n",
       "      <td>('English',)</td>\n",
       "      <td>(('Christian Bale', '/7Pxez9J8fuPd2Mn9kex13YAL...</td>\n",
       "      <td>[('Christopher Nolan', '/xuAIuYSmsUzKlUMBFGVZa...</td>\n",
       "      <td>[('Jonathan Nolan', '/qd8d381vz2skpreY1BfVuSfL...</td>\n",
       "      <td>('airplane', 'fight', 'burglar', 'hostage', 's...</td>\n",
       "      <td>(('Hans Zimmer', '/tpQnDeHY15szIXvpnhlprufz4d....</td>\n",
       "      <td>((2160, 3840, '/y2DB71C4nyIdMrANijz8mzvQtk6.jp...</td>\n",
       "      <td>((1500, 1000, '/hr0L2aueqlP2BYUblTTjmtn0hw4.jp...</td>\n",
       "      <td>(('DC Super Scenes: Batman and Gordon', 'yiyUl...</td>\n",
       "    </tr>\n",
       "    <tr>\n",
       "      <th>4</th>\n",
       "      <td>49529</td>\n",
       "      <td>False</td>\n",
       "      <td>250000000</td>\n",
       "      <td>/ubNevniKd5NYo60DqYIQ29T0uyB.jpg</td>\n",
       "      <td>/lCxz1Yus07QCQQCb6I0Dr3Lmqpx.jpg</td>\n",
       "      <td>284100000</td>\n",
       "      <td>http://movies.disney.com/john-carter</td>\n",
       "      <td>John Carter</td>\n",
       "      <td>John Carter is a war-weary, former military ca...</td>\n",
       "      <td>5.8806</td>\n",
       "      <td>...</td>\n",
       "      <td>(('Walt Disney Pictures', '/wdrCwmRnLFJhEoH8GS...</td>\n",
       "      <td>('English',)</td>\n",
       "      <td>(('Taylor Kitsch', '/pTFkwvE2URbbftiaofexfolhk...</td>\n",
       "      <td>[('Andrew Stanton', '/fo6ePCWEVB0L1sccrvB99Iao...</td>\n",
       "      <td>[('Mark Andrews', '/1z6t4TK2ZehNZ5gwaN7893aNhJ...</td>\n",
       "      <td>('princess', 'medallion', 'planet mars', 'base...</td>\n",
       "      <td>(('Dan Mindel', '/4nZVUgBlQLSNrS3j0zVblT4FF8V....</td>\n",
       "      <td>((1080, 1920, '/ubNevniKd5NYo60DqYIQ29T0uyB.jp...</td>\n",
       "      <td>((3000, 2000, '/lCxz1Yus07QCQQCb6I0Dr3Lmqpx.jp...</td>\n",
       "      <td>(('UK Premiere - BFI Southbank, London - 2012'...</td>\n",
       "    </tr>\n",
       "    <tr>\n",
       "      <th>...</th>\n",
       "      <td>...</td>\n",
       "      <td>...</td>\n",
       "      <td>...</td>\n",
       "      <td>...</td>\n",
       "      <td>...</td>\n",
       "      <td>...</td>\n",
       "      <td>...</td>\n",
       "      <td>...</td>\n",
       "      <td>...</td>\n",
       "      <td>...</td>\n",
       "      <td>...</td>\n",
       "      <td>...</td>\n",
       "      <td>...</td>\n",
       "      <td>...</td>\n",
       "      <td>...</td>\n",
       "      <td>...</td>\n",
       "      <td>...</td>\n",
       "      <td>...</td>\n",
       "      <td>...</td>\n",
       "      <td>...</td>\n",
       "      <td>...</td>\n",
       "    </tr>\n",
       "    <tr>\n",
       "      <th>4488</th>\n",
       "      <td>3080</td>\n",
       "      <td>False</td>\n",
       "      <td>609000</td>\n",
       "      <td>/9riMLH4EOw6PZzeCDnPlIGSyiEu.jpg</td>\n",
       "      <td>/qoPBiN6PBs2NsP7BNOJGCnmwruG.jpg</td>\n",
       "      <td>3202000</td>\n",
       "      <td>NaN</td>\n",
       "      <td>Top Hat</td>\n",
       "      <td>Showman Jerry Travers is working for producer ...</td>\n",
       "      <td>1.4930</td>\n",
       "      <td>...</td>\n",
       "      <td>(('RKO Radio Pictures', '/n53F7K9scQWFXYbrCabl...</td>\n",
       "      <td>('English', 'Italian')</td>\n",
       "      <td>(('Fred Astaire', '/6gw9PCrKi19I5QOwjEPaOYW9uL...</td>\n",
       "      <td>[('Mark Sandrich', '/77Gh9XVPbWT68eoOGzOwu4e1g...</td>\n",
       "      <td>[('Allan Scott', None, 1082918, 'Writing', '52...</td>\n",
       "      <td>('dancing', 'dance', 'london, england', 'venic...</td>\n",
       "      <td>(('David Abel', None, 30177, 'Camera', '52fe43...</td>\n",
       "      <td>((1800, 3200, '/9riMLH4EOw6PZzeCDnPlIGSyiEu.jp...</td>\n",
       "      <td>((1500, 1000, '/qoPBiN6PBs2NsP7BNOJGCnmwruG.jp...</td>\n",
       "      <td>(('Top Hat', 'FZUwE1n5zsE', 'YouTube', 480, '5...</td>\n",
       "    </tr>\n",
       "    <tr>\n",
       "      <th>4489</th>\n",
       "      <td>2667</td>\n",
       "      <td>False</td>\n",
       "      <td>60000</td>\n",
       "      <td>/xpTHHojJnJQgavgMw5OQYUzuNIU.jpg</td>\n",
       "      <td>/9050VGrYjYrEjpOvDZVAngLbg1f.jpg</td>\n",
       "      <td>248639099</td>\n",
       "      <td>http://www.blairwitch.com/</td>\n",
       "      <td>The Blair Witch Project</td>\n",
       "      <td>In October of 1994 three student filmmakers di...</td>\n",
       "      <td>5.8580</td>\n",
       "      <td>...</td>\n",
       "      <td>(('Haxan Films', '/nksfViwBwYdv73nkdn3Dk3OEINr...</td>\n",
       "      <td>('English',)</td>\n",
       "      <td>(('Rei Hance', '/Ootqoaw1eJF9cJ38FfAgblgJjh.jp...</td>\n",
       "      <td>[('Daniel Myrick', '/xD4LswCRryKDBKToVDWs1WTmN...</td>\n",
       "      <td>[]</td>\n",
       "      <td>('witch', 'legend', 'camping', 'map', 'superna...</td>\n",
       "      <td>(('Daniel Myrick', '/xD4LswCRryKDBKToVDWs1WTmN...</td>\n",
       "      <td>((1080, 1920, '/2Goxfvu5hKqOC1R84A9S0QVPzoa.jp...</td>\n",
       "      <td>((1500, 1000, '/9050VGrYjYrEjpOvDZVAngLbg1f.jp...</td>\n",
       "      <td>(('THE BLAIR WITCH PROJECT - Trailer', 'AcTh2Y...</td>\n",
       "    </tr>\n",
       "    <tr>\n",
       "      <th>4490</th>\n",
       "      <td>9459</td>\n",
       "      <td>False</td>\n",
       "      <td>600000</td>\n",
       "      <td>/50tOx2lJXuszVjwCjNYHEXnPMWx.jpg</td>\n",
       "      <td>/cnfhelfQucSb4Y54yFgtnSNhsAT.jpg</td>\n",
       "      <td>50000000</td>\n",
       "      <td>NaN</td>\n",
       "      <td>Woodstock</td>\n",
       "      <td>An intimate look at the Woodstock Music &amp; Art ...</td>\n",
       "      <td>0.9319</td>\n",
       "      <td>...</td>\n",
       "      <td>(('Wadleigh-Maurice', None, ''), ('Warner Bros...</td>\n",
       "      <td>('English',)</td>\n",
       "      <td>(('Richie Havens', '/34y8xJ5L9pfy8oYiWnsKvPWNT...</td>\n",
       "      <td>[('Michael Wadleigh', '/yYYYDyFgNFConB3rgVAzww...</td>\n",
       "      <td>[('Michael Wadleigh', '/yYYYDyFgNFConB3rgVAzww...</td>\n",
       "      <td>('hippie', 'free love', 'music festival', 'mar...</td>\n",
       "      <td>(('Michael Wadleigh', '/yYYYDyFgNFConB3rgVAzww...</td>\n",
       "      <td>((1080, 1920, '/50tOx2lJXuszVjwCjNYHEXnPMWx.jp...</td>\n",
       "      <td>((3000, 2000, '/cnfhelfQucSb4Y54yFgtnSNhsAT.jp...</td>\n",
       "      <td>(('Mick Garris on WOODSTOCK', 'iBdHfYxHWBA', '...</td>\n",
       "    </tr>\n",
       "    <tr>\n",
       "      <th>4491</th>\n",
       "      <td>11598</td>\n",
       "      <td>False</td>\n",
       "      <td>600000</td>\n",
       "      <td>/fiSvjqNpjGJJEFryM7n4pIVQV6f.jpg</td>\n",
       "      <td>/qk0iXBQgP6b4xfS2bIUNBSENJAn.jpg</td>\n",
       "      <td>0</td>\n",
       "      <td>NaN</td>\n",
       "      <td>The Kentucky Fried Movie</td>\n",
       "      <td>A series of loosely connected skits that spoof...</td>\n",
       "      <td>1.0511</td>\n",
       "      <td>...</td>\n",
       "      <td>(('United Film Distribution Company (UFDC)', N...</td>\n",
       "      <td>('English',)</td>\n",
       "      <td>(('Evan C. Kim', '/6kgKP3GWwD5PaEzK7eyXMtWsfEQ...</td>\n",
       "      <td>[('John Landis', '/nXKdxxELgAaGecCpxAWCoj6TV3f...</td>\n",
       "      <td>[]</td>\n",
       "      <td>('commercial', 'journalism', 'manipulation of ...</td>\n",
       "      <td>(('John Landis', '/nXKdxxELgAaGecCpxAWCoj6TV3f...</td>\n",
       "      <td>((1040, 1849, '/fiSvjqNpjGJJEFryM7n4pIVQV6f.jp...</td>\n",
       "      <td>((1205, 838, '/2oiKNN1zicCDkNjVw5FWRpNVzGM.jpg...</td>\n",
       "      <td>(('the Kentucky Fried Movie trailer 720p', 'wb...</td>\n",
       "    </tr>\n",
       "    <tr>\n",
       "      <th>4492</th>\n",
       "      <td>26916</td>\n",
       "      <td>False</td>\n",
       "      <td>600000</td>\n",
       "      <td>NaN</td>\n",
       "      <td>/cszKiUooItVoSQPKz9k8LkJIyRj.jpg</td>\n",
       "      <td>173599</td>\n",
       "      <td>NaN</td>\n",
       "      <td>Mercy Streets</td>\n",
       "      <td>Estranged twin brothers - one a con man, the o...</td>\n",
       "      <td>0.4734</td>\n",
       "      <td>...</td>\n",
       "      <td>(('Providence Entertainment', None, 'US'),)</td>\n",
       "      <td>('English',)</td>\n",
       "      <td>(('Eric Roberts', '/NiWg1TaUcal7xn1ZQeyA2dLd5F...</td>\n",
       "      <td>[('Jon Gunn', '/e29isH4oYqWvhovn6GbkJnfRJq8.jp...</td>\n",
       "      <td>[('John Mann', None, 2562250, 'Writing', '5e67...</td>\n",
       "      <td>()</td>\n",
       "      <td>(('Jon Gunn', '/e29isH4oYqWvhovn6GbkJnfRJq8.jp...</td>\n",
       "      <td>()</td>\n",
       "      <td>((821, 547, '/cszKiUooItVoSQPKz9k8LkJIyRj.jpg'...</td>\n",
       "      <td>()</td>\n",
       "    </tr>\n",
       "  </tbody>\n",
       "</table>\n",
       "<p>4493 rows × 28 columns</p>\n",
       "</div>"
      ],
      "text/plain": [
       "          id  adult     budget                     backdrop_path  \\\n",
       "0      19995  False  237000000  /vL5LR6WdxWPjLPFRLe133jXWsh5.jpg   \n",
       "1        285  False  300000000  /1jHxkVXMI5s3vRiyiZooUy1shB5.jpg   \n",
       "2     206647  False  245000000  /8lBViysvNJBPkl6zG1LVAaW3qhj.jpg   \n",
       "3      49026  False  250000000  /y2DB71C4nyIdMrANijz8mzvQtk6.jpg   \n",
       "4      49529  False  250000000  /ubNevniKd5NYo60DqYIQ29T0uyB.jpg   \n",
       "...      ...    ...        ...                               ...   \n",
       "4488    3080  False     609000  /9riMLH4EOw6PZzeCDnPlIGSyiEu.jpg   \n",
       "4489    2667  False      60000  /xpTHHojJnJQgavgMw5OQYUzuNIU.jpg   \n",
       "4490    9459  False     600000  /50tOx2lJXuszVjwCjNYHEXnPMWx.jpg   \n",
       "4491   11598  False     600000  /fiSvjqNpjGJJEFryM7n4pIVQV6f.jpg   \n",
       "4492   26916  False     600000                               NaN   \n",
       "\n",
       "                           poster_path     revenue  \\\n",
       "0     /kyeqWdyUXW608qlYkRqosgbbJyK.jpg  2923706026   \n",
       "1     /jGWpG4YhpQwVmjyHEGkxEkeRf0S.jpg   961691209   \n",
       "2     /zj8ongFhtWNsVlfjOGo8pSr7PQg.jpg   880707597   \n",
       "3     /hr0L2aueqlP2BYUblTTjmtn0hw4.jpg  1081041287   \n",
       "4     /lCxz1Yus07QCQQCb6I0Dr3Lmqpx.jpg   284100000   \n",
       "...                                ...         ...   \n",
       "4488  /qoPBiN6PBs2NsP7BNOJGCnmwruG.jpg     3202000   \n",
       "4489  /9050VGrYjYrEjpOvDZVAngLbg1f.jpg   248639099   \n",
       "4490  /cnfhelfQucSb4Y54yFgtnSNhsAT.jpg    50000000   \n",
       "4491  /qk0iXBQgP6b4xfS2bIUNBSENJAn.jpg           0   \n",
       "4492  /cszKiUooItVoSQPKz9k8LkJIyRj.jpg      173599   \n",
       "\n",
       "                                               homepage  \\\n",
       "0                  https://www.avatar.com/movies/avatar   \n",
       "1     https://movies.disney.com/pirates-of-the-carib...   \n",
       "2                        https://mgm.com/movies/spectre   \n",
       "3                    http://www.thedarkknightrises.com/   \n",
       "4                  http://movies.disney.com/john-carter   \n",
       "...                                                 ...   \n",
       "4488                                                NaN   \n",
       "4489                         http://www.blairwitch.com/   \n",
       "4490                                                NaN   \n",
       "4491                                                NaN   \n",
       "4492                                                NaN   \n",
       "\n",
       "                                         title  \\\n",
       "0                                       Avatar   \n",
       "1     Pirates of the Caribbean: At World's End   \n",
       "2                                      Spectre   \n",
       "3                        The Dark Knight Rises   \n",
       "4                                  John Carter   \n",
       "...                                        ...   \n",
       "4488                                   Top Hat   \n",
       "4489                   The Blair Witch Project   \n",
       "4490                                 Woodstock   \n",
       "4491                  The Kentucky Fried Movie   \n",
       "4492                             Mercy Streets   \n",
       "\n",
       "                                               overview  popularity  ...  \\\n",
       "0     In the 22nd century, a paraplegic Marine is di...     19.4085  ...   \n",
       "1     Will Turner and Elizabeth Swann join forces wi...     16.9507  ...   \n",
       "2     A cryptic message from Bond’s past sends him o...      5.6313  ...   \n",
       "3     Following the death of District Attorney Harve...     16.7544  ...   \n",
       "4     John Carter is a war-weary, former military ca...      5.8806  ...   \n",
       "...                                                 ...         ...  ...   \n",
       "4488  Showman Jerry Travers is working for producer ...      1.4930  ...   \n",
       "4489  In October of 1994 three student filmmakers di...      5.8580  ...   \n",
       "4490  An intimate look at the Woodstock Music & Art ...      0.9319  ...   \n",
       "4491  A series of loosely connected skits that spoof...      1.0511  ...   \n",
       "4492  Estranged twin brothers - one a con man, the o...      0.4734  ...   \n",
       "\n",
       "                                   production_companies  \\\n",
       "0     (('Dune Entertainment', None, 'US'), ('Lightst...   \n",
       "1     (('Jerry Bruckheimer Films', '/c9dVHPOL3cqCr25...   \n",
       "2     (('Metro-Goldwyn-Mayer', '/usUnaYV6hQnlVAXP6r4...   \n",
       "3     (('Syncopy', '/3tvBqYsBhxWeHlu62SIJ1el93O7.png...   \n",
       "4     (('Walt Disney Pictures', '/wdrCwmRnLFJhEoH8GS...   \n",
       "...                                                 ...   \n",
       "4488  (('RKO Radio Pictures', '/n53F7K9scQWFXYbrCabl...   \n",
       "4489  (('Haxan Films', '/nksfViwBwYdv73nkdn3Dk3OEINr...   \n",
       "4490  (('Wadleigh-Maurice', None, ''), ('Warner Bros...   \n",
       "4491  (('United Film Distribution Company (UFDC)', N...   \n",
       "4492        (('Providence Entertainment', None, 'US'),)   \n",
       "\n",
       "                                       spoken_languages  \\\n",
       "0                                ('English', 'Spanish')   \n",
       "1                                          ('English',)   \n",
       "2     ('French', 'English', 'Spanish', 'Italian', 'G...   \n",
       "3                                          ('English',)   \n",
       "4                                          ('English',)   \n",
       "...                                                 ...   \n",
       "4488                             ('English', 'Italian')   \n",
       "4489                                       ('English',)   \n",
       "4490                                       ('English',)   \n",
       "4491                                       ('English',)   \n",
       "4492                                       ('English',)   \n",
       "\n",
       "                                                   cast  \\\n",
       "0     (('Sam Worthington', '/mflBcox36s9ZPbsZPVOuhf6...   \n",
       "1     (('Johnny Depp', '/wcI594cwM4ArPwvRd2IU0Z0yLuh...   \n",
       "2     (('Daniel Craig', '/iFerDZUmC5Fu26i4qI8xnUVEHc...   \n",
       "3     (('Christian Bale', '/7Pxez9J8fuPd2Mn9kex13YAL...   \n",
       "4     (('Taylor Kitsch', '/pTFkwvE2URbbftiaofexfolhk...   \n",
       "...                                                 ...   \n",
       "4488  (('Fred Astaire', '/6gw9PCrKi19I5QOwjEPaOYW9uL...   \n",
       "4489  (('Rei Hance', '/Ootqoaw1eJF9cJ38FfAgblgJjh.jp...   \n",
       "4490  (('Richie Havens', '/34y8xJ5L9pfy8oYiWnsKvPWNT...   \n",
       "4491  (('Evan C. Kim', '/6kgKP3GWwD5PaEzK7eyXMtWsfEQ...   \n",
       "4492  (('Eric Roberts', '/NiWg1TaUcal7xn1ZQeyA2dLd5F...   \n",
       "\n",
       "                                               director  \\\n",
       "0     [('James Cameron', '/9NAZnTjBQ9WcXAQEzZpKy4vdQ...   \n",
       "1     [('Gore Verbinski', '/rSQRdmLNAwdKxrtvBSSlBmWe...   \n",
       "2     [('Sam Mendes', '/5z89X9rB76JDblqMQ52fviwXxAN....   \n",
       "3     [('Christopher Nolan', '/xuAIuYSmsUzKlUMBFGVZa...   \n",
       "4     [('Andrew Stanton', '/fo6ePCWEVB0L1sccrvB99Iao...   \n",
       "...                                                 ...   \n",
       "4488  [('Mark Sandrich', '/77Gh9XVPbWT68eoOGzOwu4e1g...   \n",
       "4489  [('Daniel Myrick', '/xD4LswCRryKDBKToVDWs1WTmN...   \n",
       "4490  [('Michael Wadleigh', '/yYYYDyFgNFConB3rgVAzww...   \n",
       "4491  [('John Landis', '/nXKdxxELgAaGecCpxAWCoj6TV3f...   \n",
       "4492  [('Jon Gunn', '/e29isH4oYqWvhovn6GbkJnfRJq8.jp...   \n",
       "\n",
       "                                             screenplay  \\\n",
       "0                                                    []   \n",
       "1     [('Terry Rossio', '/fFB0vhLH1dU6pSMWojEY5Stbv2...   \n",
       "2     [('John Logan', '/nsece2qBIAOFvavyXc89HlIqrLK....   \n",
       "3     [('Jonathan Nolan', '/qd8d381vz2skpreY1BfVuSfL...   \n",
       "4     [('Mark Andrews', '/1z6t4TK2ZehNZ5gwaN7893aNhJ...   \n",
       "...                                                 ...   \n",
       "4488  [('Allan Scott', None, 1082918, 'Writing', '52...   \n",
       "4489                                                 []   \n",
       "4490  [('Michael Wadleigh', '/yYYYDyFgNFConB3rgVAzww...   \n",
       "4491                                                 []   \n",
       "4492  [('John Mann', None, 2562250, 'Writing', '5e67...   \n",
       "\n",
       "                                               keywords  \\\n",
       "0     ('paraplegic', 'attachment to nature', 'cultur...   \n",
       "1     ('exotic island', 'strong woman', \"love of one...   \n",
       "2     ('based on novel or book', 'spy', 'secret agen...   \n",
       "3     ('airplane', 'fight', 'burglar', 'hostage', 's...   \n",
       "4     ('princess', 'medallion', 'planet mars', 'base...   \n",
       "...                                                 ...   \n",
       "4488  ('dancing', 'dance', 'london, england', 'venic...   \n",
       "4489  ('witch', 'legend', 'camping', 'map', 'superna...   \n",
       "4490  ('hippie', 'free love', 'music festival', 'mar...   \n",
       "4491  ('commercial', 'journalism', 'manipulation of ...   \n",
       "4492                                                 ()   \n",
       "\n",
       "                                                   crew  \\\n",
       "0     (('John Refoua', '/qvWv4ohokCGX6PxVqJhVugZNRqI...   \n",
       "1     (('Stephen E. Rivkin', '/804bmnoxrmlBYXGLh2ZOG...   \n",
       "2     (('Daniel Kleinman', None, 228181, 'Art', '623...   \n",
       "3     (('Hans Zimmer', '/tpQnDeHY15szIXvpnhlprufz4d....   \n",
       "4     (('Dan Mindel', '/4nZVUgBlQLSNrS3j0zVblT4FF8V....   \n",
       "...                                                 ...   \n",
       "4488  (('David Abel', None, 30177, 'Camera', '52fe43...   \n",
       "4489  (('Daniel Myrick', '/xD4LswCRryKDBKToVDWs1WTmN...   \n",
       "4490  (('Michael Wadleigh', '/yYYYDyFgNFConB3rgVAzww...   \n",
       "4491  (('John Landis', '/nXKdxxELgAaGecCpxAWCoj6TV3f...   \n",
       "4492  (('Jon Gunn', '/e29isH4oYqWvhovn6GbkJnfRJq8.jp...   \n",
       "\n",
       "                                              backdrops  \\\n",
       "0     ((2160, 3840, '/vL5LR6WdxWPjLPFRLe133jXWsh5.jp...   \n",
       "1     ((2160, 3840, '/kIPAtz27QPbH6Fqu0EJinlJCkHC.jp...   \n",
       "2     ((1080, 1920, '/8lBViysvNJBPkl6zG1LVAaW3qhj.jp...   \n",
       "3     ((2160, 3840, '/y2DB71C4nyIdMrANijz8mzvQtk6.jp...   \n",
       "4     ((1080, 1920, '/ubNevniKd5NYo60DqYIQ29T0uyB.jp...   \n",
       "...                                                 ...   \n",
       "4488  ((1800, 3200, '/9riMLH4EOw6PZzeCDnPlIGSyiEu.jp...   \n",
       "4489  ((1080, 1920, '/2Goxfvu5hKqOC1R84A9S0QVPzoa.jp...   \n",
       "4490  ((1080, 1920, '/50tOx2lJXuszVjwCjNYHEXnPMWx.jp...   \n",
       "4491  ((1040, 1849, '/fiSvjqNpjGJJEFryM7n4pIVQV6f.jp...   \n",
       "4492                                                 ()   \n",
       "\n",
       "                                                posters  \\\n",
       "0     ((2127, 1418, '/uaRusyPlXRD4w3XPbfDDbO4jXST.jp...   \n",
       "1     ((1800, 1200, '/fMgcmRYbT4O7hCmsRjKPzPBZXTi.jp...   \n",
       "2     ((2100, 1400, '/8KcTySYevFZNinrFadCZoKpF9jN.jp...   \n",
       "3     ((1500, 1000, '/hr0L2aueqlP2BYUblTTjmtn0hw4.jp...   \n",
       "4     ((3000, 2000, '/lCxz1Yus07QCQQCb6I0Dr3Lmqpx.jp...   \n",
       "...                                                 ...   \n",
       "4488  ((1500, 1000, '/qoPBiN6PBs2NsP7BNOJGCnmwruG.jp...   \n",
       "4489  ((1500, 1000, '/9050VGrYjYrEjpOvDZVAngLbg1f.jp...   \n",
       "4490  ((3000, 2000, '/cnfhelfQucSb4Y54yFgtnSNhsAT.jp...   \n",
       "4491  ((1205, 838, '/2oiKNN1zicCDkNjVw5FWRpNVzGM.jpg...   \n",
       "4492  ((821, 547, '/cszKiUooItVoSQPKz9k8LkJIyRj.jpg'...   \n",
       "\n",
       "                                                 videos  \n",
       "0     (('Rick Carter | 82nd & 85th Oscars Best Produ...  \n",
       "1     ((\"Pirates of the Caribbean: At World's End (2...  \n",
       "2     (('SPECTRE | “I kill people… small world eh?”'...  \n",
       "3     (('DC Super Scenes: Batman and Gordon', 'yiyUl...  \n",
       "4     (('UK Premiere - BFI Southbank, London - 2012'...  \n",
       "...                                                 ...  \n",
       "4488  (('Top Hat', 'FZUwE1n5zsE', 'YouTube', 480, '5...  \n",
       "4489  (('THE BLAIR WITCH PROJECT - Trailer', 'AcTh2Y...  \n",
       "4490  (('Mick Garris on WOODSTOCK', 'iBdHfYxHWBA', '...  \n",
       "4491  (('the Kentucky Fried Movie trailer 720p', 'wb...  \n",
       "4492                                                 ()  \n",
       "\n",
       "[4493 rows x 28 columns]"
      ]
     },
     "execution_count": 13,
     "metadata": {},
     "output_type": "execute_result"
    }
   ],
   "source": [
    "df"
   ]
  },
  {
   "cell_type": "markdown",
   "id": "694fa516-a610-4cd7-b180-ea38951cb948",
   "metadata": {},
   "source": [
    "# Eda for Database Stracture"
   ]
  },
  {
   "cell_type": "code",
   "execution_count": 95,
   "id": "66e616b0-0bdd-4091-b73a-311c427af955",
   "metadata": {},
   "outputs": [
    {
     "data": {
      "text/plain": [
       "4796"
      ]
     },
     "execution_count": 95,
     "metadata": {},
     "output_type": "execute_result"
    }
   ],
   "source": [
    "df.id.nunique()"
   ]
  },
  {
   "cell_type": "code",
   "execution_count": 96,
   "id": "947e212b-6d80-4450-b7a6-35b1648f209f",
   "metadata": {},
   "outputs": [
    {
     "data": {
      "text/plain": [
       "1"
      ]
     },
     "execution_count": 96,
     "metadata": {},
     "output_type": "execute_result"
    }
   ],
   "source": [
    "df.adult.nunique()"
   ]
  },
  {
   "cell_type": "code",
   "execution_count": 97,
   "id": "b618cbf8-ce4d-4baf-bda6-f0d3470b8eb1",
   "metadata": {},
   "outputs": [
    {
     "data": {
      "text/plain": [
       "466"
      ]
     },
     "execution_count": 97,
     "metadata": {},
     "output_type": "execute_result"
    }
   ],
   "source": [
    "df.budget.nunique()"
   ]
  },
  {
   "cell_type": "code",
   "execution_count": 98,
   "id": "38a2e0d1-4ae2-4c18-adde-8175782420e8",
   "metadata": {},
   "outputs": [],
   "source": [
    "# df.budget.unique()"
   ]
  },
  {
   "cell_type": "code",
   "execution_count": 99,
   "id": "f947a8e2-2132-4667-b7a3-bcd0891d80e9",
   "metadata": {},
   "outputs": [
    {
     "data": {
      "text/plain": [
       "1833"
      ]
     },
     "execution_count": 99,
     "metadata": {},
     "output_type": "execute_result"
    }
   ],
   "source": [
    "df.homepage.nunique()\n"
   ]
  },
  {
   "cell_type": "code",
   "execution_count": 104,
   "id": "cd8f337d-519c-438c-8a47-b4b946e96be8",
   "metadata": {},
   "outputs": [
    {
     "data": {
      "text/plain": [
       "homepage\n",
       "http://www.thehungergames.movie/                                            4\n",
       "http://www.kungfupanda.com/                                                 3\n",
       "http://www.troma.com                                                        3\n",
       "http://www.lordoftherings.net/                                              2\n",
       "https://stepupmovie.com                                                     2\n",
       "http://stepupmovie.com                                                      2\n",
       "http://www.pitchperfectmovie.com/                                           2\n",
       "http://www.workandtheglory.com/                                             2\n",
       "http://www.paranormalmovie.com/                                             2\n",
       "http://www.thehobbit.com/                                                   2\n",
       "https://www.hallmarkdrama.com/signed-sealed-delivered-movie                 1\n",
       "https://www.avatar.com/movies/avatar                                        1\n",
       "https://movies.disney.com/pirates-of-the-caribbean-at-worlds-end            1\n",
       "https://mgm.com/movies/spectre                                              1\n",
       "http://www.thedarkknightrises.com/                                          1\n",
       "https://www.warnerbros.com/movies/harry-potter-and-half-blood-prince/       1\n",
       "http://focusfeatures.com/the_signal/                                        1\n",
       "http://www.montereymedia.com/theatrical/films/this_is_martin_bonner.html    1\n",
       "https://www.facebook.com/pages/Raymond-Did-It/205521879470                  1\n",
       "http://www.mgm.com/#/our-titles/1092/The-Last-Waltz/                        1\n",
       "Name: count, dtype: int64"
      ]
     },
     "execution_count": 104,
     "metadata": {},
     "output_type": "execute_result"
    }
   ],
   "source": [
    "df.homepage.value_counts().head(20)"
   ]
  },
  {
   "cell_type": "code",
   "execution_count": 105,
   "id": "b6d3944b-f74f-4511-b4fa-68a31243d071",
   "metadata": {},
   "outputs": [
    {
     "data": {
      "text/plain": [
       "4590"
      ]
     },
     "execution_count": 105,
     "metadata": {},
     "output_type": "execute_result"
    }
   ],
   "source": [
    "df.popularity.nunique()"
   ]
  },
  {
   "cell_type": "code",
   "execution_count": 106,
   "id": "80d1142a-f7ad-4a7f-bfd1-1ecffb075ae8",
   "metadata": {},
   "outputs": [
    {
     "data": {
      "text/plain": [
       "3197"
      ]
     },
     "execution_count": 106,
     "metadata": {},
     "output_type": "execute_result"
    }
   ],
   "source": [
    "df.release_date.nunique()"
   ]
  },
  {
   "cell_type": "code",
   "execution_count": 107,
   "id": "c1069099-e67a-44f0-9a1d-10d9b77633f9",
   "metadata": {},
   "outputs": [
    {
     "data": {
      "text/plain": [
       "release_date\n",
       "1999-10-22    7\n",
       "2005-09-16    7\n",
       "1999-10-08    7\n",
       "2002-09-20    6\n",
       "2014-12-25    6\n",
       "             ..\n",
       "2005-03-01    1\n",
       "1994-10-19    1\n",
       "1971-05-24    1\n",
       "1997-03-28    1\n",
       "2002-01-15    1\n",
       "Name: count, Length: 3197, dtype: int64"
      ]
     },
     "execution_count": 107,
     "metadata": {},
     "output_type": "execute_result"
    }
   ],
   "source": [
    "df.release_date.value_counts()"
   ]
  },
  {
   "cell_type": "code",
   "execution_count": 108,
   "id": "ca09cb4d-efd9-4ca5-b0b4-2010d7470e0b",
   "metadata": {},
   "outputs": [
    {
     "data": {
      "text/plain": [
       "152"
      ]
     },
     "execution_count": 108,
     "metadata": {},
     "output_type": "execute_result"
    }
   ],
   "source": [
    "df.runtime.nunique()\n"
   ]
  },
  {
   "cell_type": "code",
   "execution_count": 109,
   "id": "5e104b2d-ca95-494c-b68c-46b1175b8121",
   "metadata": {},
   "outputs": [
    {
     "data": {
      "text/plain": [
       "runtime\n",
       "90     158\n",
       "98     145\n",
       "100    140\n",
       "95     132\n",
       "97     130\n",
       "      ... \n",
       "66       1\n",
       "59       1\n",
       "25       1\n",
       "47       1\n",
       "60       1\n",
       "Name: count, Length: 152, dtype: int64"
      ]
     },
     "execution_count": 109,
     "metadata": {},
     "output_type": "execute_result"
    }
   ],
   "source": [
    "df.runtime.value_counts()"
   ]
  },
  {
   "cell_type": "code",
   "execution_count": 110,
   "id": "f915c8c4-c6c8-436a-944a-4af015e55f36",
   "metadata": {},
   "outputs": [
    {
     "data": {
      "text/plain": [
       "2108"
      ]
     },
     "execution_count": 110,
     "metadata": {},
     "output_type": "execute_result"
    }
   ],
   "source": [
    "df.vote_average .nunique()\n"
   ]
  },
  {
   "cell_type": "code",
   "execution_count": 111,
   "id": "5f930ffb-bc64-46f4-b713-c641578fb73a",
   "metadata": {},
   "outputs": [
    {
     "data": {
      "text/plain": [
       "2759"
      ]
     },
     "execution_count": 111,
     "metadata": {},
     "output_type": "execute_result"
    }
   ],
   "source": [
    "df.vote_count .nunique()"
   ]
  },
  {
   "cell_type": "markdown",
   "id": "38075f50-5706-4176-9931-d78c43a79aa6",
   "metadata": {},
   "source": [
    "# Belongs To Collection"
   ]
  },
  {
   "cell_type": "code",
   "execution_count": 112,
   "id": "53885fdd-b758-451c-875f-9777a355137d",
   "metadata": {},
   "outputs": [
    {
     "data": {
      "text/plain": [
       "657"
      ]
     },
     "execution_count": 112,
     "metadata": {},
     "output_type": "execute_result"
    }
   ],
   "source": [
    "df.belongs_to_collection .nunique()"
   ]
  },
  {
   "cell_type": "code",
   "execution_count": 113,
   "id": "3e6f9d36-7227-4296-88f5-caab8be6ffc3",
   "metadata": {},
   "outputs": [
    {
     "data": {
      "text/plain": [
       "belongs_to_collection\n",
       "{'id': 645, 'name': 'James Bond Collection', 'poster_path': '/ofwSiqOFShhunAIYYdSMHMJQSx2.jpg', 'backdrop_path': '/dOSECZImeyZldoq0ObieBE0lwie.jpg'}                    25\n",
       "{'id': 9735, 'name': 'Friday the 13th Collection', 'poster_path': '/p3fJC9R4pCj5Vw0gP7Di0GZts9Z.jpg', 'backdrop_path': '/yz9EdlfKU8bpN0hbdJMy6QkFBoN.jpg'}              10\n",
       "{'id': 656, 'name': 'Saw Collection', 'poster_path': '/w0zPElyuA5q2kjdfa2FdNYeS5Io.jpg', 'backdrop_path': '/q6XF2qbrxdv3OwZPnXgecDRft1O.jpg'}                            7\n",
       "{'id': 8581, 'name': 'A Nightmare on Elm Street Collection', 'poster_path': '/6ihRddI1Pg4wHFhkZwI9mERRrMd.jpg', 'backdrop_path': '/7UcPLgNneoemYmZcyUo5r3nwBbE.jpg'}     7\n",
       "{'id': 748, 'name': 'X-Men Collection', 'poster_path': '/31rqs6ZxFdi5nWZZaFPIr17q8jt.jpg', 'backdrop_path': '/ykVHlrE3aSvHYeIXOrWDsYZ18vv.jpg'}                          6\n",
       "                                                                                                                                                                        ..\n",
       "{'id': 379897, 'name': 'Hayride Collection', 'poster_path': '/y6LStquVQKdwXlBFc89BBBwUigo.jpg', 'backdrop_path': '/pUTvOZHKSP0strZJRtsYKQa7oas.jpg'}                     1\n",
       "{'id': 858112, 'name': 'The FP Collection', 'poster_path': '/35VyDKQMvRcpqKvDDW01ThYF09y.jpg', 'backdrop_path': None}                                                    1\n",
       "{'id': 475802, 'name': 'Super Size Me Collection', 'poster_path': '/wM9tgozmt7iBACxFeLvzaDZY81A.jpg', 'backdrop_path': None}                                             1\n",
       "{'id': 158373, 'name': 'The Lost Skeleton Collection', 'poster_path': None, 'backdrop_path': '/eganORurYZd7e8EOgtSLzqwdqKS.jpg'}                                         1\n",
       "{'id': 380822, 'name': 'Penitentiary Collection', 'poster_path': '/21cIwMtyHNxFFXL1W8zn3cz1RRN.jpg', 'backdrop_path': '/4rvqiplRc9NKDZlLeESVFKhHv6d.jpg'}                1\n",
       "Name: count, Length: 657, dtype: int64"
      ]
     },
     "execution_count": 113,
     "metadata": {},
     "output_type": "execute_result"
    }
   ],
   "source": [
    "df.belongs_to_collection.value_counts()"
   ]
  },
  {
   "cell_type": "code",
   "execution_count": 114,
   "id": "f4e5c5ef-7a3a-4477-8c0b-02499f212103",
   "metadata": {},
   "outputs": [
    {
     "data": {
      "text/plain": [
       "\"{'id': 87096, 'name': 'Avatar Collection', 'poster_path': '/3C5brXxnBxfkeKWwA1Fh4xvy4wr.jpg', 'backdrop_path': '/gxnvX9kF7RRUQYvB52dMLPgeJkt.jpg'}\""
      ]
     },
     "execution_count": 114,
     "metadata": {},
     "output_type": "execute_result"
    }
   ],
   "source": [
    "df.belongs_to_collection.iloc[0]"
   ]
  },
  {
   "cell_type": "code",
   "execution_count": 36,
   "id": "3217d108-d863-4ed0-868c-d1020d5407f2",
   "metadata": {},
   "outputs": [
    {
     "name": "stdout",
     "output_type": "stream",
     "text": [
      "0\n"
     ]
    }
   ],
   "source": [
    "collections = {'name':[],'collection_id':[],'poster':[],'backdrop':[]}\n",
    "for collection in df.belongs_to_collection.dropna():\n",
    "    collection = ast.literal_eval(collection)\n",
    "    if collection['name'] not in collections['name']: \n",
    "        collections['name'].append(collection['name'])\n",
    "        collections['collection_id'].append(collection['id'])\n",
    "        collections['poster'].append(collection['poster_path'])\n",
    "        collections['backdrop'].append(collection['backdrop_path'])\n",
    "file_df = pd.DataFrame(collections)\n",
    "file_df.index = range(1,len(file_df)+1)\n",
    "file_df.to_csv('collections.csv',index_label = 'id')\n",
    "print(file_df.duplicated().sum())"
   ]
  },
  {
   "cell_type": "markdown",
   "id": "ff30d640-063e-4124-9d56-0f862ec5a0ca",
   "metadata": {},
   "source": [
    "# Genres"
   ]
  },
  {
   "cell_type": "code",
   "execution_count": 124,
   "id": "4659fa23-a2a5-4618-9fb4-7384d9987a2e",
   "metadata": {},
   "outputs": [
    {
     "data": {
      "text/plain": [
       "1275"
      ]
     },
     "execution_count": 124,
     "metadata": {},
     "output_type": "execute_result"
    }
   ],
   "source": [
    "df.genres.nunique()"
   ]
  },
  {
   "cell_type": "code",
   "execution_count": 125,
   "id": "8f4d4150-e50c-4403-8b86-67a9f2a1df95",
   "metadata": {},
   "outputs": [
    {
     "data": {
      "text/plain": [
       "genres\n",
       "('Drama',)                            315\n",
       "('Comedy',)                           218\n",
       "('Drama', 'Romance')                  163\n",
       "('Comedy', 'Romance')                 162\n",
       "('Comedy', 'Drama')                   142\n",
       "                                     ... \n",
       "('Drama', 'Family', 'TV Movie')         1\n",
       "('Action', 'Adventure', 'History')      1\n",
       "('Western', 'Adventure')                1\n",
       "('Family', 'Animation', 'Drama')        1\n",
       "('Romance', 'Action')                   1\n",
       "Name: count, Length: 1275, dtype: int64"
      ]
     },
     "execution_count": 125,
     "metadata": {},
     "output_type": "execute_result"
    }
   ],
   "source": [
    "df.genres.value_counts()"
   ]
  },
  {
   "cell_type": "code",
   "execution_count": 19,
   "id": "d6e45573-24f0-40a8-9caa-522cb14acee8",
   "metadata": {},
   "outputs": [
    {
     "name": "stdout",
     "output_type": "stream",
     "text": [
      "0\n"
     ]
    }
   ],
   "source": [
    "genres = []\n",
    "count = 1\n",
    "for genre in df.genres:\n",
    "    genre = ast.literal_eval(genre)\n",
    "    for gen in genre:\n",
    "        if gen not in genres:\n",
    "            genres.append(gen)\n",
    "file_df = pd.DataFrame(genres,columns = ['name'])\n",
    "file_df.index = range(1,len(file_df)+1)\n",
    "file_df.to_csv('genres.csv',index_label = 'id')\n",
    "print(file_df.duplicated().sum())"
   ]
  },
  {
   "cell_type": "markdown",
   "id": "b5996d9f-8402-4a8f-b017-54bc00ffbee2",
   "metadata": {},
   "source": [
    "# Origin Country"
   ]
  },
  {
   "cell_type": "code",
   "execution_count": 131,
   "id": "312a2825-0e74-4ac8-89b2-0433c3837603",
   "metadata": {},
   "outputs": [
    {
     "data": {
      "text/plain": [
       "213"
      ]
     },
     "execution_count": 131,
     "metadata": {},
     "output_type": "execute_result"
    }
   ],
   "source": [
    "df.origin_country.nunique()"
   ]
  },
  {
   "cell_type": "code",
   "execution_count": 132,
   "id": "27c4bcd9-aa96-41a2-be5e-0cc7a62f3f8b",
   "metadata": {},
   "outputs": [
    {
     "data": {
      "text/plain": [
       "origin_country\n",
       "('US',)         3621\n",
       "('GB',)          180\n",
       "('US', 'GB')     159\n",
       "('CA', 'US')      98\n",
       "('GB', 'US')      80\n",
       "                ... \n",
       "('SI',)            1\n",
       "('AF',)            1\n",
       "('LT',)            1\n",
       "('GR',)            1\n",
       "('IR', 'CH')       1\n",
       "Name: count, Length: 213, dtype: int64"
      ]
     },
     "execution_count": 132,
     "metadata": {},
     "output_type": "execute_result"
    }
   ],
   "source": [
    "df.origin_country.value_counts()"
   ]
  },
  {
   "cell_type": "code",
   "execution_count": 22,
   "id": "7a70bb89-d10c-41bc-b129-3389bca97cdc",
   "metadata": {},
   "outputs": [
    {
     "name": "stdout",
     "output_type": "stream",
     "text": [
      "0\n"
     ]
    }
   ],
   "source": [
    "countries = []\n",
    "for country in df.origin_country:\n",
    "    country = ast.literal_eval(country)\n",
    "    for con in country:\n",
    "        if con not in countries:\n",
    "            countries.append(con)\n",
    "file_df = pd.DataFrame(countries,columns = ['name'])\n",
    "file_df.index = range(1,len(file_df)+1)\n",
    "file_df.to_csv('countries.csv',index_label = 'id')\n",
    "print(file_df.duplicated().sum())"
   ]
  },
  {
   "cell_type": "markdown",
   "id": "4248d71d-31a8-44a4-9c2d-0c6d9541cac4",
   "metadata": {},
   "source": [
    "# Production Companies"
   ]
  },
  {
   "cell_type": "code",
   "execution_count": 154,
   "id": "50f30578-33a9-4e5e-8f27-e92afdaf4cb7",
   "metadata": {},
   "outputs": [
    {
     "data": {
      "text/plain": [
       "4227"
      ]
     },
     "execution_count": 154,
     "metadata": {},
     "output_type": "execute_result"
    }
   ],
   "source": [
    "df.production_companies.nunique()"
   ]
  },
  {
   "cell_type": "code",
   "execution_count": 155,
   "id": "3ee10013-c7ac-4636-9def-e08907ebb3de",
   "metadata": {},
   "outputs": [
    {
     "data": {
      "text/plain": [
       "0       (('Dune Entertainment', None, 'US'), ('Lightst...\n",
       "1       (('Jerry Bruckheimer Films', '/c9dVHPOL3cqCr25...\n",
       "2       (('Metro-Goldwyn-Mayer', '/usUnaYV6hQnlVAXP6r4...\n",
       "3       (('Syncopy', '/3tvBqYsBhxWeHlu62SIJ1el93O7.png...\n",
       "4       (('Walt Disney Pictures', '/wdrCwmRnLFJhEoH8GS...\n",
       "                              ...                        \n",
       "4791         (('Los Hooligans Productions', None, 'US'),)\n",
       "4792    (('Marlboro Road Gang Productions', '/aixGsrDc...\n",
       "4793    (('Muse Entertainment', '/hQVRii7CRnfG0rowSEc6...\n",
       "4794                                                   ()\n",
       "4795    (('rusty bear entertainment', None, ''), ('luc...\n",
       "Name: production_companies, Length: 4796, dtype: object"
      ]
     },
     "execution_count": 155,
     "metadata": {},
     "output_type": "execute_result"
    }
   ],
   "source": [
    "df.production_companies"
   ]
  },
  {
   "cell_type": "code",
   "execution_count": 33,
   "id": "2e2d6860-8b18-415e-aa0e-b2a33acf9565",
   "metadata": {},
   "outputs": [
    {
     "name": "stdout",
     "output_type": "stream",
     "text": [
      "0\n"
     ]
    }
   ],
   "source": [
    "production_companies = {'name':[],'poster':[],'country':[]}\n",
    "for company in df.production_companies:\n",
    "    company = ast.literal_eval(company)\n",
    "    for com in company:\n",
    "        if com[0] not in production_companies['name']:\n",
    "            production_companies['name'].append(com[0])\n",
    "            production_companies['poster'].append(com[1])\n",
    "            production_companies['country'].append(com[2])\n",
    "\n",
    "file_df = pd.DataFrame(production_companies)\n",
    "file_df.index = range(1,len(file_df)+1)\n",
    "file_df.to_csv('production_companies.csv',index_label = 'id')\n",
    "print(file_df.duplicated().sum())"
   ]
  },
  {
   "cell_type": "markdown",
   "id": "67a5446b-ed9e-48e1-b76a-a87d2ecc4c87",
   "metadata": {},
   "source": [
    "# Spoken Languages"
   ]
  },
  {
   "cell_type": "code",
   "execution_count": 160,
   "id": "48d87287-06e8-4492-96b3-d41ece4b22d6",
   "metadata": {},
   "outputs": [
    {
     "data": {
      "text/plain": [
       "599"
      ]
     },
     "execution_count": 160,
     "metadata": {},
     "output_type": "execute_result"
    }
   ],
   "source": [
    "df.spoken_languages.nunique()"
   ]
  },
  {
   "cell_type": "code",
   "execution_count": 161,
   "id": "2677238b-37ab-4a06-8256-49c9fdd9945d",
   "metadata": {},
   "outputs": [
    {
     "data": {
      "text/plain": [
       "spoken_languages\n",
       "('English',)                                                                                                               3202\n",
       "('English', 'Spanish')                                                                                                      145\n",
       "('English', 'French')                                                                                                        90\n",
       "('Spanish', 'English')                                                                                                       77\n",
       "('English', 'Italian')                                                                                                       48\n",
       "                                                                                                                           ... \n",
       "('Cantonese', 'English', 'Japanese', 'Russian')                                                                               1\n",
       "('Latin', 'English', 'French', 'Japanese', 'Mandarin')                                                                        1\n",
       "('English', 'French', 'Hindi', 'Italian', 'Mandarin', 'Latin', 'Portuguese', 'Russian', 'Spanish', 'Tibetan', 'German')       1\n",
       "('English', 'French', 'Persian')                                                                                              1\n",
       "('Italian', 'French', 'Latin', 'Mandarin')                                                                                    1\n",
       "Name: count, Length: 599, dtype: int64"
      ]
     },
     "execution_count": 161,
     "metadata": {},
     "output_type": "execute_result"
    }
   ],
   "source": [
    "df.spoken_languages.value_counts()"
   ]
  },
  {
   "cell_type": "code",
   "execution_count": 23,
   "id": "fe153fdb-ee2b-4368-b1c5-acfe38829777",
   "metadata": {},
   "outputs": [
    {
     "name": "stdout",
     "output_type": "stream",
     "text": [
      "0\n"
     ]
    }
   ],
   "source": [
    "spoken_languages = []\n",
    "for language in  df.spoken_languages:\n",
    "    language = ast.literal_eval(language)\n",
    "    for lan in language:\n",
    "        if lan not in spoken_languages:\n",
    "            spoken_languages.append(lan)\n",
    "\n",
    "file_df = pd.DataFrame(spoken_languages,columns = ['language'])\n",
    "file_df.index = range(1,len(file_df)+1)\n",
    "file_df.to_csv('spoken_languages.csv',index_label = 'id')\n",
    "print(file_df.duplicated().sum())"
   ]
  },
  {
   "cell_type": "markdown",
   "id": "32a3a7d0-4d2b-4a29-b7e5-ab33e4a9f3c1",
   "metadata": {},
   "source": [
    "# cast"
   ]
  },
  {
   "cell_type": "code",
   "execution_count": 163,
   "id": "6b9600c8-f74e-4805-9536-75f9e167402e",
   "metadata": {},
   "outputs": [
    {
     "data": {
      "text/plain": [
       "4783"
      ]
     },
     "execution_count": 163,
     "metadata": {},
     "output_type": "execute_result"
    }
   ],
   "source": [
    "df.cast.nunique()"
   ]
  },
  {
   "cell_type": "code",
   "execution_count": 166,
   "id": "dc5e938b-8081-460e-842a-648890e7a8d9",
   "metadata": {},
   "outputs": [
    {
     "data": {
      "text/plain": [
       "('Sam Worthington',\n",
       " '/mflBcox36s9ZPbsZPVOuhf6axaJ.jpg',\n",
       " 65731,\n",
       " 'Jake Sully',\n",
       " '5602a8a7c3a3685532001c9a')"
      ]
     },
     "execution_count": 166,
     "metadata": {},
     "output_type": "execute_result"
    }
   ],
   "source": [
    "# x['name'],x['profile_path'],x['id'],x['character'],x['credit_id']\n",
    "ast.literal_eval(df.cast.iloc[0])[0]"
   ]
  },
  {
   "cell_type": "code",
   "execution_count": 24,
   "id": "13039cc2-faa9-4c12-b9a6-730e401aeef7",
   "metadata": {},
   "outputs": [
    {
     "name": "stdout",
     "output_type": "stream",
     "text": [
      "0\n",
      "0\n"
     ]
    }
   ],
   "source": [
    "casts ={'name':[],'profile_photo':[],'cast_id':[],'character':[],'credit_id':[]} \n",
    "for actors in df.cast:\n",
    "    actors = ast.literal_eval(actors)\n",
    "    for actor in actors:\n",
    "        if actor[0] not in casts['name']:\n",
    "            casts['name'].append(actor[0])\n",
    "            casts['profile_photo'].append(actor[1])\n",
    "            casts['cast_id'].append(actor[2])\n",
    "            casts['character'].append(actor[3])\n",
    "            casts['credit_id'].append(actor[4])\n",
    "\n",
    "file_df = pd.DataFrame(casts)\n",
    "file_df.index = range(1,len(file_df)+1)\n",
    "file_df.to_csv('casts.csv',index_label = 'id')\n",
    "print(file_df.duplicated().sum())"
   ]
  },
  {
   "cell_type": "markdown",
   "id": "bb4155df-1aa9-456e-98a5-1a96536aa350",
   "metadata": {},
   "source": [
    "# Director"
   ]
  },
  {
   "cell_type": "code",
   "execution_count": 171,
   "id": "73e53085-48b8-4872-b9ad-181dfbcb794f",
   "metadata": {},
   "outputs": [
    {
     "data": {
      "text/plain": [
       "4792"
      ]
     },
     "execution_count": 171,
     "metadata": {},
     "output_type": "execute_result"
    }
   ],
   "source": [
    "df.director.nunique()"
   ]
  },
  {
   "cell_type": "code",
   "execution_count": 218,
   "id": "addf3461-49dd-48d3-91e9-3f7217156d6e",
   "metadata": {},
   "outputs": [
    {
     "data": {
      "text/plain": [
       "np.int64(0)"
      ]
     },
     "execution_count": 218,
     "metadata": {},
     "output_type": "execute_result"
    }
   ],
   "source": [
    "df.director.isna().sum()\n",
    "# (key['name'],key['profile_path'],key['id'],key['department'],key['credit_id'],key['job'])"
   ]
  },
  {
   "cell_type": "code",
   "execution_count": 226,
   "id": "f0e12dd8-94b5-4e56-9003-62df81b0464c",
   "metadata": {},
   "outputs": [
    {
     "data": {
      "text/plain": [
       "array([\"[('Hawk Ostby', '/w34js6H3uW0TZxp33Bne39V1g7v.jpg', 79209, 'Writing', '5cff2fbd92514173ecba6018', 'Screenplay'), ('Matt Holloway', '/m8R4mMuKCfG60ITXtLrw8TT7zCf.jpg', 18875, 'Writing', '5cff2fdb925141517fba6e23', 'Screenplay'), ('Art Marcum', '/yX4gYCclvjBzGFKPVB8cp4eKksH.jpg', 18873, 'Writing', '5cff2fd3c3a3680cac20521d', 'Screenplay'), ('Mark Fergus', '/d4KsPbLTyDiudrBVjTfVm82WATA.jpg', 79207, 'Writing', '5cff2fb2c3a36801a72034dc', 'Screenplay')]\"],\n",
       "      dtype=object)"
      ]
     },
     "execution_count": 226,
     "metadata": {},
     "output_type": "execute_result"
    }
   ],
   "source": [
    "df[df['title'] == 'Iron Man']['screenplay'].values"
   ]
  },
  {
   "cell_type": "code",
   "execution_count": 219,
   "id": "21f1b6db-b8f4-4064-8168-158e535d4479",
   "metadata": {},
   "outputs": [
    {
     "data": {
      "text/plain": [
       "\"[('James Cameron', '/9NAZnTjBQ9WcXAQEzZpKy4vdQto.jpg', 2710, 'Directing', '52fe48009251416c750ac9c3', 'Director')]\""
      ]
     },
     "execution_count": 219,
     "metadata": {},
     "output_type": "execute_result"
    }
   ],
   "source": [
    "df.director.iloc[0]"
   ]
  },
  {
   "cell_type": "code",
   "execution_count": 31,
   "id": "30a55a58-7ae5-4854-ab4d-98866f10f358",
   "metadata": {},
   "outputs": [
    {
     "name": "stdout",
     "output_type": "stream",
     "text": [
      "0\n"
     ]
    }
   ],
   "source": [
    "directors = {'name':[],'profile_path':[],'director_id':[],'department':[],'job':[],'credit_id':[]}\n",
    "for director in df.director:\n",
    "    director = ast.literal_eval(director)\n",
    "    # print(director)\n",
    "    for dire in director:\n",
    "        # print(dire)\n",
    "        if dire[0] not in directors['name']:\n",
    "            directors['name'].append(dire[0])\n",
    "            directors['profile_path'].append(dire[1])\n",
    "            directors['director_id'].append(dire[2])\n",
    "            directors['department'].append(dire[3])\n",
    "            directors['credit_id'].append(dire[4])\n",
    "            directors['job'].append(dire[5])\n",
    "\n",
    "file_df = pd.DataFrame(directors)\n",
    "file_df.index = range(1,len(file_df)+1)\n",
    "file_df.to_csv('directors.csv',index_label = 'id')\n",
    "print(file_df.duplicated().sum())"
   ]
  },
  {
   "cell_type": "markdown",
   "id": "98914057-d4c0-440d-b933-cd1e897227af",
   "metadata": {},
   "source": [
    "# Screenplay"
   ]
  },
  {
   "cell_type": "code",
   "execution_count": 241,
   "id": "056ee227-0be1-4001-8278-3bd44a8ab176",
   "metadata": {},
   "outputs": [
    {
     "data": {
      "text/plain": [
       "2902"
      ]
     },
     "execution_count": 241,
     "metadata": {},
     "output_type": "execute_result"
    }
   ],
   "source": [
    "df.screenplay.nunique()"
   ]
  },
  {
   "cell_type": "code",
   "execution_count": 245,
   "id": "3a0ffc70-f0c0-4521-87b9-4c001cfedcb0",
   "metadata": {},
   "outputs": [
    {
     "data": {
      "text/plain": [
       "\"[('Terry Rossio', '/fFB0vhLH1dU6pSMWojEY5Stbv21.jpg', 1706, 'Writing', '52fe4232c3a36847f800b509', 'Screenplay'), ('Ted Elliott', '/kGW95TZLI1qCvZUmk8gPnlviSqy.jpg', 1705, 'Writing', '52fe4232c3a36847f800b503', 'Screenplay')]\""
      ]
     },
     "execution_count": 245,
     "metadata": {},
     "output_type": "execute_result"
    }
   ],
   "source": [
    "df.screenplay.iloc[1]\n",
    "# key['name'],key['profile_path'],key['id'],key['department'],key['credit_id'],key['job']"
   ]
  },
  {
   "cell_type": "code",
   "execution_count": 26,
   "id": "eb275648-3919-40fa-bb78-d294907a0cd4",
   "metadata": {},
   "outputs": [
    {
     "name": "stdout",
     "output_type": "stream",
     "text": [
      "0\n"
     ]
    }
   ],
   "source": [
    "screenplayers = {'name':[],'profile_path':[],'screenplay_id':[],'department':[],'credit_id':[],'job':[]}\n",
    "for screenplay in df.screenplay.dropna():\n",
    "    screenplay = ast.literal_eval(screenplay)\n",
    "    if screenplay == []:\n",
    "        continue\n",
    "    for play in screenplay:\n",
    "        if play[0] not in screenplayers['name']:\n",
    "            screenplayers['name'].append(play[0])\n",
    "            screenplayers['profile_path'].append(play[1])\n",
    "            screenplayers['screenplay_id'].append(play[2])\n",
    "            screenplayers['department'].append(play[3])\n",
    "            screenplayers['credit_id'].append(play[4])\n",
    "            screenplayers['job'].append(play[5])\n",
    "\n",
    "file_df = pd.DataFrame(screenplayers)\n",
    "file_df.index = range(1,len(file_df)+1)\n",
    "file_df.to_csv('screenplayers.csv',index_label = 'id')\n",
    "print(file_df.duplicated().sum())"
   ]
  },
  {
   "cell_type": "code",
   "execution_count": 247,
   "id": "e76aa208-73f3-4aec-b7cf-ef3d5647401d",
   "metadata": {},
   "outputs": [
    {
     "name": "stdout",
     "output_type": "stream",
     "text": [
      "<class 'pandas.core.frame.DataFrame'>\n",
      "RangeIndex: 4796 entries, 0 to 4795\n",
      "Data columns (total 26 columns):\n",
      " #   Column                 Non-Null Count  Dtype  \n",
      "---  ------                 --------------  -----  \n",
      " 0   id                     4796 non-null   int64  \n",
      " 1   adult                  4796 non-null   bool   \n",
      " 2   budget                 4796 non-null   int64  \n",
      " 3   revenue                4796 non-null   int64  \n",
      " 4   homepage               1847 non-null   object \n",
      " 5   title                  4796 non-null   object \n",
      " 6   overview               4796 non-null   object \n",
      " 7   popularity             4796 non-null   float64\n",
      " 8   release_date           4796 non-null   object \n",
      " 9   runtime                4796 non-null   int64  \n",
      " 10  tagline                4328 non-null   object \n",
      " 11  vote_average           4796 non-null   float64\n",
      " 12  vote_count             4796 non-null   int64  \n",
      " 13  belongs_to_collection  1086 non-null   object \n",
      " 14  genres                 4796 non-null   object \n",
      " 15  origin_country         4796 non-null   object \n",
      " 16  production_companies   4796 non-null   object \n",
      " 17  spoken_languages       4796 non-null   object \n",
      " 18  cast                   4796 non-null   object \n",
      " 19  director               4796 non-null   object \n",
      " 20  screenplay             4796 non-null   object \n",
      " 21  keywords               4796 non-null   object \n",
      " 22  crew                   4796 non-null   object \n",
      " 23  backdrops              4796 non-null   object \n",
      " 24  posters                4796 non-null   object \n",
      " 25  videos                 4796 non-null   object \n",
      "dtypes: bool(1), float64(2), int64(5), object(18)\n",
      "memory usage: 941.5+ KB\n"
     ]
    }
   ],
   "source": [
    "df.info()"
   ]
  },
  {
   "cell_type": "code",
   "execution_count": 264,
   "id": "debee2c7-7065-44ba-bab4-d74416807e8c",
   "metadata": {},
   "outputs": [
    {
     "data": {
      "text/plain": [
       "0       (('John Refoua', '/qvWv4ohokCGX6PxVqJhVugZNRqI...\n",
       "1       (('Stephen E. Rivkin', '/804bmnoxrmlBYXGLh2ZOG...\n",
       "2       (('Daniel Kleinman', None, 228181, 'Art', '623...\n",
       "3       (('Christopher Nolan', '/xuAIuYSmsUzKlUMBFGVZa...\n",
       "4       (('Andrew Stanton', '/fo6ePCWEVB0L1sccrvB99Iao...\n",
       "                              ...                        \n",
       "4791    (('Cecilio Rodríguez', None, 57478, 'Sound', '...\n",
       "4792    (('Edward Burns', '/pTLdPUSxDUcdmvy91LGCF3pk0A...\n",
       "4793    (('Scott Smith', None, 1219158, 'Directing', '...\n",
       "4794    (('Daniel Hsia', None, 208138, 'Directing', '5...\n",
       "4795    (('Brett Winn', None, 997560, 'Directing', '52...\n",
       "Name: crew, Length: 4796, dtype: object"
      ]
     },
     "execution_count": 264,
     "metadata": {},
     "output_type": "execute_result"
    }
   ],
   "source": [
    "# x['name'],x['profile_path'],x['id'],x['department'],x['credit_id'],x['job']\n",
    "ast.literal_eval( df['crew'][0])\n",
    "df['crew']"
   ]
  },
  {
   "cell_type": "code",
   "execution_count": 27,
   "id": "dce8614a-f555-46d0-aa02-0db17aee4b35",
   "metadata": {},
   "outputs": [
    {
     "name": "stdout",
     "output_type": "stream",
     "text": [
      "0\n"
     ]
    }
   ],
   "source": [
    "crews = {'name':[],'profile_path':[],'crew_id':[],'department':[],'credit_id':[],'job':[]}\n",
    "for crew in df.crew:\n",
    "    crew= ast.literal_eval(crew)\n",
    "    for cre in crew:\n",
    "        if cre[0] not in crews['name']:\n",
    "            crews['name'].append(cre[0])\n",
    "            crews['profile_path'].append(cre[1])\n",
    "            crews['crew_id'].append(cre[2])\n",
    "            crews['department'].append(cre[3])\n",
    "            crews['credit_id'].append(cre[4])\n",
    "            crews['job'].append(cre[5])\n",
    "\n",
    "file_df = pd.DataFrame(crews)\n",
    "file_df.index = range(1,len(file_df)+1)\n",
    "file_df.to_csv('crews.csv',index_label = 'id')\n",
    "print(file_df.duplicated().sum())\n",
    "\n",
    "        "
   ]
  },
  {
   "cell_type": "code",
   "execution_count": 277,
   "id": "d6d03b06-af61-41a5-b6d8-f6f0f7876c3a",
   "metadata": {},
   "outputs": [],
   "source": [
    "# x['height'],x['width'],x['file_path']\n",
    "# df['backdrops'].iloc[0]"
   ]
  },
  {
   "cell_type": "code",
   "execution_count": 38,
   "id": "9aa1bc50-cd09-4d05-b843-ef43ba881714",
   "metadata": {},
   "outputs": [
    {
     "name": "stdout",
     "output_type": "stream",
     "text": [
      "0\n"
     ]
    }
   ],
   "source": [
    "backdrops = {'file_path':[],'height':[],'width':[],}\n",
    "for backdrop in df.backdrops:\n",
    "    backdrop = ast.literal_eval(backdrop)\n",
    "    for back in backdrop:\n",
    "        if back[2] not in backdrops['file_path']:\n",
    "            backdrops['file_path'].append(back[2])\n",
    "            backdrops['height'].append(back[0])\n",
    "            backdrops['width'].append(back[1])\n",
    "            \n",
    "\n",
    "file_df = pd.DataFrame(backdrops)\n",
    "file_df.index = range(1,len(file_df)+1)\n",
    "file_df.to_csv('backdrops.csv',index_label = 'id')\n",
    "print(file_df.duplicated().sum())"
   ]
  },
  {
   "cell_type": "code",
   "execution_count": 276,
   "id": "aaf4e21c-5666-4d67-8fb0-a7ff460339a7",
   "metadata": {},
   "outputs": [],
   "source": [
    "# x['height'],x['width'],x['file_path'],x['aspect_ratio']\n",
    "# df['posters'].iloc[0]"
   ]
  },
  {
   "cell_type": "code",
   "execution_count": 37,
   "id": "6e3dfba7-c327-4735-97c8-c0af69aca3e9",
   "metadata": {},
   "outputs": [
    {
     "name": "stdout",
     "output_type": "stream",
     "text": [
      "0\n"
     ]
    }
   ],
   "source": [
    "posters = {'file_path':[],'height':[],'width':[],'aspect_ratio':[]}\n",
    "for poster in df.posters:\n",
    "    poster = ast.literal_eval(poster)\n",
    "    for post in poster:\n",
    "        if post[2] not in posters['file_path']:\n",
    "            posters['file_path'].append(post[2])\n",
    "            posters['height'].append(post[0])\n",
    "            posters['width'].append(post[1])\n",
    "            \n",
    "            posters['aspect_ratio'].append(post[3])\n",
    "\n",
    "file_df = pd.DataFrame(posters)\n",
    "file_df.index = range(1,len(file_df)+1)\n",
    "file_df.to_csv('posters.csv',index_label = 'id')\n",
    "print(file_df.duplicated().sum())"
   ]
  },
  {
   "cell_type": "code",
   "execution_count": 275,
   "id": "d72b186f-7099-4f33-8335-d9cc2ebe4289",
   "metadata": {},
   "outputs": [
    {
     "data": {
      "text/plain": [
       "'((\\'Rick Carter | 82nd & 85th Oscars Best Production Design | Behind the Oscars Speech\\', \\'Gan2NzR80Cc\\', \\'YouTube\\', 1080, \\'6836312886aa54c7c0a87695\\'), (\\'Back for a Limited Time\\', \\'LgZ2MDuJvhc\\', \\'YouTube\\', 1080, \\'63372b210a517c009cd540ff\\'), (\\'Thank You Fans\\', \\'G_9MmUpBxnE\\', \\'YouTube\\', 1080, \\'633652260a517c007c424c28\\'), (\\'Back in Theaters Now\\', \\'lWOPVDyZRxY\\', \\'YouTube\\', 1080, \\'63361a75db7058008ebe0070\\'), (\\'Back in Theaters\\', \\'LO1lud7EFFc\\', \\'YouTube\\', 1080, \\'63361e7fd363e5007d88882a\\'), (\\'See It Back On The Big Screen\\', \\'FVq8GX6DqTE\\', \\'YouTube\\', 1080, \\'632f736b663b87008558e615\\'), (\\'Back In Theaters This Friday\\', \\'9sUddYwgFi8\\', \\'YouTube\\', 1080, \\'632e4f86fcec2e007cb65a61\\'), (\"James Cameron\\'s Avatar is back on the big screen this Friday!\", \\'M8rnbAUO-p8\\', \\'YouTube\\', 1080, \\'632c0043c8f3c4007bb5ee3c\\'), (\\'Back in Theaters | Tickets on Sale\\', \\'PBkR1GWRwjY\\', \\'YouTube\\', 1080, \\'631f62dbe55937007f378dac\\'), (\\'Neytiri\\', \\'8AM3DedwJvE\\', \\'YouTube\\', 1080, \\'6315d65f326c190079d3e881\\'), (\\'Back in Theatres\\', \\'jm2sNLIPPvA\\', \\'YouTube\\', 1080, \\'6305a17dcee2f6007bcdb00c\\'), (\\'Stream on Disney+\\', \\'hmfBznT7B3k\\', \\'YouTube\\', 1080, \\'639fa2fa688cd018083fce0d\\'), (\\'Avatar Wins Art Direction: 2010 Oscars\\', \\'_vE9yBjBjA8\\', \\'YouTube\\', 480, \\'683631641fa0c455ba730727\\'), (\\'Avatar Wins Cinematography and Visual Effects: 2010 Oscars\\', \\'9HmECf9sVNM\\', \\'YouTube\\', 480, \\'6836314c42e8a4d2df2b7e1b\\'), (\\'Scorpion\\', \\'197Qfoy-xME\\', \\'YouTube\\', 1080, \\'5d6489baad50f06b0244d7df\\'), (\\'AMP Suit\\', \\'aw60Ma4c2bw\\', \\'YouTube\\', 1080, \\'5d6489cd813cb60013f8ee84\\'), (\\'Navi\\', \\'7VxJW-XJkro\\', \\'YouTube\\', 1080, \\'5d6489ef813cb60016f8f9be\\'), (\\'Planet Pandora\\', \\'vzzVsOdumqg\\', \\'YouTube\\', 1080, \\'5d648a11bcf8c9001575fe5a\\'), (\"James Cameron\\'s Vision\", \\'qdV9LUYrEqs\\', \\'YouTube\\', 1080, \\'5d648a30813cb60014f8fc14\\'), (\\'DireHorse\\', \\'4plftv4aCSc\\', \\'YouTube\\', 1080, \\'5ec724780fb17f001c7a4048\\'), (\\'Banshee\\', \\'EoHZcf_lkMA\\', \\'YouTube\\', 1080, \\'5ec725e16c849200202c58c3\\'), (\\'Performance Capture\\', \\'OJ1JzYPjcj0\\', \\'YouTube\\', 480, \\'5d648989ad50f0324244c762\\'), (\\'Avatar Story\\', \\'Jxt2Gwp7tx0\\', \\'YouTube\\', 720, \\'5ec725543d3557001eeee15c\\'), (\\'Official Trailer\\', \\'5PSNL1qE6VY\\', \\'YouTube\\', 720, \\'5b22be749251416e1b01d1d9\\'))'"
      ]
     },
     "execution_count": 275,
     "metadata": {},
     "output_type": "execute_result"
    }
   ],
   "source": [
    "# x['name'],x['key'],x['site'],x['size'],x['id']\n",
    "df['videos'].iloc[0]"
   ]
  },
  {
   "cell_type": "code",
   "execution_count": 32,
   "id": "3f32a826-eaef-4948-b4cf-c8e5d6bb53f8",
   "metadata": {},
   "outputs": [
    {
     "name": "stdout",
     "output_type": "stream",
     "text": [
      "0\n"
     ]
    }
   ],
   "source": [
    "videos = {'name':[],'key':[],'site':[],'size':[],'video_id':[]}\n",
    "for video in df.videos:\n",
    "    video = ast.literal_eval(video)\n",
    "    for vid in video:\n",
    "        if vid[0] not in videos['name']:\n",
    "            videos['name'].append(vid[0])\n",
    "            videos['key'].append(vid[1])\n",
    "            videos['site'].append(vid[2])\n",
    "            videos['size'].append(vid[3])\n",
    "            videos['video_id'].append(vid[4])\n",
    "\n",
    "file_df = pd.DataFrame(videos)\n",
    "file_df.index = range(1,len(file_df)+1)\n",
    "file_df.to_csv('videos.csv',index_label = 'id')\n",
    "print(file_df.duplicated().sum())"
   ]
  },
  {
   "cell_type": "code",
   "execution_count": null,
   "id": "7f3ddc64-9a2e-411b-955a-92c0eed45bc5",
   "metadata": {},
   "outputs": [],
   "source": []
  }
 ],
 "metadata": {
  "kernelspec": {
   "display_name": "Python 3 (ipykernel)",
   "language": "python",
   "name": "python3"
  },
  "language_info": {
   "codemirror_mode": {
    "name": "ipython",
    "version": 3
   },
   "file_extension": ".py",
   "mimetype": "text/x-python",
   "name": "python",
   "nbconvert_exporter": "python",
   "pygments_lexer": "ipython3",
   "version": "3.13.5"
  }
 },
 "nbformat": 4,
 "nbformat_minor": 5
}
